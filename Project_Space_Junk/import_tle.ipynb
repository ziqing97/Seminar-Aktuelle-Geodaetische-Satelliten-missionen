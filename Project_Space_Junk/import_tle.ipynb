{
 "cells": [
  {
   "cell_type": "code",
   "execution_count": 19,
   "metadata": {},
   "outputs": [],
   "source": [
    "import csv\n",
    "from datetime import datetime \n",
    "from datetime import timedelta\n",
    "from tqdm import tqdm\n"
   ]
  },
  {
   "cell_type": "code",
   "execution_count": 15,
   "metadata": {},
   "outputs": [],
   "source": [
    "file_list = []\n",
    "file_list.append(\"C:\\\\Users\\\\yuziq\\\\Documents\\\\OneDrive\\\\TLEs\\\\tle2004_1of8.txt\\\\tle2004_1of8.txt\")\n",
    "folder_list=[]\n",
    "folder_list.append(\"C:\\\\Users\\\\yuziq\\\\Documents\\\\OneDrive\\\\TLEs\\\\tle2004_1of8.txt\")\n",
    "year_list = [2004,2004,2004,2004,2004,2004,2004,2004,2005,2006,2007,2008,2009,2010,2011,2012,2013,2014,2015,2016,2017,2018,2019,2020,2021,2022]\n",
    "part_list = [1,2,3,4,5,6,7,8,1,1,1,1,1,1,1,1,1,1,1,1,1,1,1,1,1,1]"
   ]
  },
  {
   "cell_type": "code",
   "execution_count": 16,
   "metadata": {},
   "outputs": [],
   "source": []
  },
  {
   "cell_type": "code",
   "execution_count": 17,
   "metadata": {},
   "outputs": [],
   "source": [
    "for i,file in enumerate(file_list):\n",
    "    dict_tle = {}\n",
    "    year_index = year_list[i]\n",
    "    part_index = part_list[i]\n",
    "\n",
    "    with open(file, encoding = 'utf-8') as f1:\n",
    "        line = f1.readline()\n",
    "        while line:\n",
    "            sate_id = line[2:7]\n",
    "            \n",
    "            if not (sate_id in dict_tle):\n",
    "                dict_tle[sate_id] = {}\n",
    "                dict_tle[sate_id]['timestamp']=[]\n",
    "                dict_tle[sate_id]['inclination'] = []\n",
    "                dict_tle[sate_id]['eccetricity'] = []\n",
    "                dict_tle[sate_id]['AoP'] = []\n",
    "                dict_tle[sate_id]['mean_anomaly'] = []\n",
    "                dict_tle[sate_id]['mean_motion'] = []\n",
    "            year = line[18:20]\n",
    "            time_rest = line[20:32]\n",
    "            dict_tle[sate_id]['timestamp'].append(datetime(year=int(year)+2000,month=1,day=1)+timedelta(days=float(time_rest)))\n",
    "            \n",
    "            line = f1.readline()\n",
    "            dict_tle[sate_id]['inclination'].append(float(line[8:16]))\n",
    "            dict_tle[sate_id]['eccetricity'].append(float('0.'+line[26:33]))\n",
    "            dict_tle[sate_id]['AoP'].append(float(line[34:42]))\n",
    "            dict_tle[sate_id]['mean_anomaly'].append(float(line[43:51]))\n",
    "            dict_tle[sate_id]['mean_motion'].append(float(line[52:63]))\n",
    "            line = f1.readline()\n",
    "    f1.close()\n",
    "\n",
    "    for item in tqdm(dict_tle):\n",
    "        tle_data = dict_tle[item]\n",
    "        f2 = open(f'{folder_list[i]}\\\\{item}_{year_index}_P{part_index}.csv','w')\n",
    "        writer = csv.writer(f2)\n",
    "        header = ['time','inclination','eccetricity','AoP','mean_anomaly','mean_motion']\n",
    "        writer.writerow(header)\n",
    "        for i,item in enumerate(tle_data['timestamp']):\n",
    "            row = [item,tle_data['inclination'],tle_data['eccetricity'],tle_data['AoP'],tle_data['mean_anomaly'],tle_data['mean_motion']]\n",
    "            writer.writerow(row)\n",
    "        f2.close()"
   ]
  }
 ],
 "metadata": {
  "kernelspec": {
   "display_name": "Python 3.9.15 ('tle')",
   "language": "python",
   "name": "python3"
  },
  "language_info": {
   "codemirror_mode": {
    "name": "ipython",
    "version": 3
   },
   "file_extension": ".py",
   "mimetype": "text/x-python",
   "name": "python",
   "nbconvert_exporter": "python",
   "pygments_lexer": "ipython3",
   "version": "3.9.15"
  },
  "orig_nbformat": 4,
  "vscode": {
   "interpreter": {
    "hash": "68ad844550d8f1359e91405590971a217ea76575b5e7d837713d9e5d4bff5641"
   }
  }
 },
 "nbformat": 4,
 "nbformat_minor": 2
}
