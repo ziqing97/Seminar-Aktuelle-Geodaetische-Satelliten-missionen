{
 "cells": [
  {
   "cell_type": "code",
   "execution_count": 19,
   "metadata": {},
   "outputs": [],
   "source": [
    "import csv\n",
    "from datetime import datetime \n",
    "from datetime import timedelta\n",
    "from tqdm import tqdm\n"
   ]
  },
  {
   "cell_type": "code",
   "execution_count": 15,
   "metadata": {},
   "outputs": [],
   "source": [
    "file_list = []\n",
    "file_list.append(\"C:\\\\Users\\\\yuziq\\\\Documents\\\\OneDrive\\\\TLEs\\\\tle2004_1of8.txt\\\\tle2004_1of8.txt\")"
   ]
  },
  {
   "cell_type": "code",
   "execution_count": 16,
   "metadata": {},
   "outputs": [],
   "source": [
    "dict_tle_2004 = {}"
   ]
  },
  {
   "cell_type": "code",
   "execution_count": 17,
   "metadata": {},
   "outputs": [],
   "source": [
    "with open(file, encoding = 'utf-8') as f1:\n",
    "    line = f1.readline()\n",
    "    while line:\n",
    "        sate_id = line[2:7]\n",
    "        \n",
    "        if not (sate_id in dict_tle_2004):\n",
    "            dict_tle_2004[sate_id] = {}\n",
    "            dict_tle_2004[sate_id]['timestamp']=[]\n",
    "            dict_tle_2004[sate_id]['inclination'] = []\n",
    "            dict_tle_2004[sate_id]['eccetricity'] = []\n",
    "            dict_tle_2004[sate_id]['AoP'] = []\n",
    "            dict_tle_2004[sate_id]['mean_anomaly'] = []\n",
    "            dict_tle_2004[sate_id]['mean_motion'] = []\n",
    "        year = line[18:20]\n",
    "        time_rest = line[20:32]\n",
    "        dict_tle_2004[sate_id]['timestamp'].append(datetime(year=int(year)+2000,month=1,day=1)+timedelta(days=float(time_rest)))\n",
    "        \n",
    "        line = f1.readline()\n",
    "        dict_tle_2004[sate_id]['inclination'].append(float(line[8:16]))\n",
    "        dict_tle_2004[sate_id]['eccetricity'].append(float('0.'+line[26:33]))\n",
    "        dict_tle_2004[sate_id]['AoP'].append(float(line[34:42]))\n",
    "        dict_tle_2004[sate_id]['mean_anomaly'].append(float(line[43:51]))\n",
    "        dict_tle_2004[sate_id]['mean_motion'].append(float(line[52:63]))\n",
    "        line = f1.readline()\n",
    "f1.close()"
   ]
  },
  {
   "cell_type": "code",
   "execution_count": 20,
   "metadata": {},
   "outputs": [
    {
     "name": "stderr",
     "output_type": "stream",
     "text": [
      " 37%|███▋      | 4152/11222 [13:29<22:58,  5.13it/s]  \n"
     ]
    },
    {
     "ename": "OSError",
     "evalue": "[Errno 28] No space left on device",
     "output_type": "error",
     "traceback": [
      "\u001b[1;31m---------------------------------------------------------------------------\u001b[0m",
      "\u001b[1;31mOSError\u001b[0m                                   Traceback (most recent call last)",
      "Cell \u001b[1;32mIn [20], line 13\u001b[0m\n\u001b[0;32m     11\u001b[0m \u001b[39mfor\u001b[39;00m i,item \u001b[39min\u001b[39;00m \u001b[39menumerate\u001b[39m(tle_data[\u001b[39m'\u001b[39m\u001b[39mtimestamp\u001b[39m\u001b[39m'\u001b[39m]):\n\u001b[0;32m     12\u001b[0m     row \u001b[39m=\u001b[39m [item,tle_data[\u001b[39m'\u001b[39m\u001b[39minclination\u001b[39m\u001b[39m'\u001b[39m],tle_data[\u001b[39m'\u001b[39m\u001b[39meccetricity\u001b[39m\u001b[39m'\u001b[39m],tle_data[\u001b[39m'\u001b[39m\u001b[39mAoP\u001b[39m\u001b[39m'\u001b[39m],tle_data[\u001b[39m'\u001b[39m\u001b[39mmean_anomaly\u001b[39m\u001b[39m'\u001b[39m],tle_data[\u001b[39m'\u001b[39m\u001b[39mmean_motion\u001b[39m\u001b[39m'\u001b[39m]]\n\u001b[1;32m---> 13\u001b[0m     writer\u001b[39m.\u001b[39;49mwriterow(row)\n\u001b[0;32m     14\u001b[0m f2\u001b[39m.\u001b[39mclose()\n",
      "\u001b[1;31mOSError\u001b[0m: [Errno 28] No space left on device"
     ]
    }
   ],
   "source": [
    "year = 2004\n",
    "part = 1\n",
    "\n",
    "\n",
    "for item in tqdm(dict_tle_2004):\n",
    "    tle_data = dict_tle_2004[item]\n",
    "    f2 = open(f'{item}_{year}_P{part}.csv','w')\n",
    "    writer = csv.writer(f2)\n",
    "    header = ['time','inclination','eccetricity','AoP','mean_anomaly','mean_motion']\n",
    "    writer.writerow(header)\n",
    "    for i,item in enumerate(tle_data['timestamp']):\n",
    "        row = [item,tle_data['inclination'],tle_data['eccetricity'],tle_data['AoP'],tle_data['mean_anomaly'],tle_data['mean_motion']]\n",
    "        writer.writerow(row)\n",
    "    f2.close()"
   ]
  }
 ],
 "metadata": {
  "kernelspec": {
   "display_name": "Python 3.9.15 ('tle')",
   "language": "python",
   "name": "python3"
  },
  "language_info": {
   "codemirror_mode": {
    "name": "ipython",
    "version": 3
   },
   "file_extension": ".py",
   "mimetype": "text/x-python",
   "name": "python",
   "nbconvert_exporter": "python",
   "pygments_lexer": "ipython3",
   "version": "3.9.15"
  },
  "orig_nbformat": 4,
  "vscode": {
   "interpreter": {
    "hash": "68ad844550d8f1359e91405590971a217ea76575b5e7d837713d9e5d4bff5641"
   }
  }
 },
 "nbformat": 4,
 "nbformat_minor": 2
}
