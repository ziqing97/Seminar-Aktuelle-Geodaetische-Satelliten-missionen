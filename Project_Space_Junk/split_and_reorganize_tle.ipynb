{
 "cells": [
  {
   "cell_type": "code",
   "execution_count": 1,
   "metadata": {},
   "outputs": [],
   "source": [
    "import csv\n",
    "from datetime import datetime \n",
    "from datetime import timedelta\n",
    "from tqdm import tqdm\n"
   ]
  },
  {
   "cell_type": "markdown",
   "metadata": {},
   "source": [
    "I know the code in the block below looks super stupid, but there were different   \n",
    "mini problems in the different tle data so I have to do in this way to look after each file alone"
   ]
  },
  {
   "cell_type": "code",
   "execution_count": 2,
   "metadata": {},
   "outputs": [],
   "source": [
    "file_list = []\n",
    "file_list.append(\"E:\\\\OneDrive\\\\TLEs\\\\tle2004_1of8.txt\\\\tle2004_1of8.txt\")\n",
    "file_list.append(\"E:\\\\OneDrive\\\\TLEs\\\\tle2004_2of8.txt\\\\tle2004_2of8.txt\")\n",
    "file_list.append(\"E:\\\\OneDrive\\\\TLEs\\\\tle2004_3of8.txt\\\\tle2004_3of8.txt\")\n",
    "file_list.append(\"E:\\\\OneDrive\\\\TLEs\\\\tle2004_4of8.txt\\\\tle2004_4of8.txt\")\n",
    "file_list.append(\"E:\\\\OneDrive\\\\TLEs\\\\tle2004_5of8.txt\\\\tle2004_5of8.txt\")\n",
    "file_list.append(\"E:\\\\OneDrive\\\\TLEs\\\\tle2004_6of8.txt\\\\tle2004_6of8.txt\")\n",
    "file_list.append(\"E:\\\\OneDrive\\\\TLEs\\\\tle2004_7of8.txt\\\\tle2004_7of8.txt\")\n",
    "file_list.append(\"E:\\\\OneDrive\\\\TLEs\\\\tle2005.txt\\\\tle2005.txt\")\n",
    "file_list.append(\"E:\\\\OneDrive\\\\TLEs\\\\tle2006.txt\\\\tle2006.txt\")\n",
    "file_list.append(\"E:\\\\OneDrive\\\\TLEs\\\\tle2007.txt\\\\tle2007.txt\")\n",
    "file_list.append(\"E:\\\\OneDrive\\\\TLEs\\\\tle2008.txt\\\\tle2008.txt\")\n",
    "file_list.append(\"E:\\\\OneDrive\\\\TLEs\\\\tle2009.txt\\\\tle2009.txt\")\n",
    "file_list.append(\"E:\\\\OneDrive\\\\TLEs\\\\tle2010.txt\\\\tle2010.txt\")\n",
    "file_list.append(\"E:\\\\OneDrive\\\\TLEs\\\\tle2011.txt\\\\tle2011.txt\")\n",
    "file_list.append(\"E:\\\\OneDrive\\\\TLEs\\\\tle2012.txt\\\\tle2012.txt\")\n",
    "file_list.append(\"E:\\\\OneDrive\\\\TLEs\\\\tle2013.txt\\\\tle2013.txt\")\n",
    "file_list.append(\"E:\\\\OneDrive\\\\TLEs\\\\tle2014.txt\\\\tle2014.txt\")\n",
    "file_list.append(\"E:\\\\OneDrive\\\\TLEs\\\\tle2015.txt\\\\tle2015.txt\")\n",
    "file_list.append(\"E:\\\\OneDrive\\\\TLEs\\\\tle2016.txt\\\\tle2016.txt\")\n",
    "file_list.append(\"E:\\\\OneDrive\\\\TLEs\\\\tle2017.txt\\\\tle2017.txt\")\n",
    "file_list.append(\"E:\\\\OneDrive\\\\TLEs\\\\tle2018.txt\\\\tle2018.txt\")\n",
    "file_list.append(\"E:\\\\OneDrive\\\\TLEs\\\\tle2019.txt\\\\tle2019.txt\")\n",
    "file_list.append(\"E:\\\\OneDrive\\\\TLEs\\\\tle2020.txt\\\\tle2020.txt\")\n",
    "file_list.append(\"E:\\\\OneDrive\\\\TLEs\\\\tle2021.txt\\\\tle2021.txt\")\n",
    "file_list.append(\"E:\\\\OneDrive\\\\TLEs\\\\tle2022_sofar.txt\\\\tle2022_sofar.txt\")\n",
    "\n",
    "folder_list=[]\n",
    "folder_list.append(\"E:\\\\OneDrive\\\\TLEs\\\\tle2004_1of8.txt\")\n",
    "folder_list.append(\"E:\\\\OneDrive\\\\TLEs\\\\tle2004_2of8.txt\")\n",
    "folder_list.append(\"E:\\\\OneDrive\\\\TLEs\\\\tle2004_3of8.txt\")\n",
    "folder_list.append(\"E:\\\\OneDrive\\\\TLEs\\\\tle2004_4of8.txt\")\n",
    "folder_list.append(\"E:\\\\OneDrive\\\\TLEs\\\\tle2004_5of8.txt\")\n",
    "folder_list.append(\"E:\\\\OneDrive\\\\TLEs\\\\tle2004_6of8.txt\")\n",
    "folder_list.append(\"E:\\\\OneDrive\\\\TLEs\\\\tle2004_7of8.txt\")\n",
    "folder_list.append(\"E:\\\\OneDrive\\\\TLEs\\\\tle2004_8of8.txt\")\n",
    "folder_list.append(\"E:\\\\OneDrive\\\\TLEs\\\\tle2005.txt\")\n",
    "folder_list.append(\"E:\\\\OneDrive\\\\TLEs\\\\tle2006.txt\")\n",
    "folder_list.append(\"E:\\\\OneDrive\\\\TLEs\\\\tle2007.txt\")\n",
    "folder_list.append(\"E:\\\\OneDrive\\\\TLEs\\\\tle2008.txt\")\n",
    "folder_list.append(\"E:\\\\OneDrive\\\\TLEs\\\\tle2009.txt\")\n",
    "folder_list.append(\"E:\\\\OneDrive\\\\TLEs\\\\tle2010.txt\")\n",
    "folder_list.append(\"E:\\\\OneDrive\\\\TLEs\\\\tle2011.txt\")\n",
    "folder_list.append(\"E:\\\\OneDrive\\\\TLEs\\\\tle2012.txt\")\n",
    "folder_list.append(\"E:\\\\OneDrive\\\\TLEs\\\\tle2013.txt\")\n",
    "folder_list.append(\"E:\\\\OneDrive\\\\TLEs\\\\tle2014.txt\")\n",
    "folder_list.append(\"E:\\\\OneDrive\\\\TLEs\\\\tle2015.txt\")\n",
    "folder_list.append(\"E:\\\\OneDrive\\\\TLEs\\\\tle2016.txt\")\n",
    "folder_list.append(\"E:\\\\OneDrive\\\\TLEs\\\\tle2017.txt\")\n",
    "folder_list.append(\"E:\\\\OneDrive\\\\TLEs\\\\tle2018.txt\")\n",
    "folder_list.append(\"E:\\\\OneDrive\\\\TLEs\\\\tle2019.txt\")\n",
    "folder_list.append(\"E:\\\\OneDrive\\\\TLEs\\\\tle2020.txt\")\n",
    "folder_list.append(\"E:\\\\OneDrive\\\\TLEs\\\\tle2021.txt\")\n",
    "folder_list.append(\"E:\\\\OneDrive\\\\TLEs\\\\tle2022_sofar.txt\")\n",
    "\n",
    "year_list = [2004,2004,2004,2004,2004,2004,2004,2004,2005,2006,2007,2008,2009,2010,2011,2012,2013,2014,2015,2016,2017,2018,2019,2020,2021,2022]\n",
    "part_list = [1,2,3,4,5,6,7,8,1,1,1,1,1,1,1,1,1,1,1,1,1,1,1,1,1,1]"
   ]
  },
  {
   "cell_type": "markdown",
   "metadata": {},
   "source": [
    "and then, split the big file into many small files organized in satellite index and year\n",
    "\n",
    "time(in unixtime), inclination, eccetricity, AoP, mean_anomaly and mean_motion are extracted\n",
    "\n",
    "If you want to try this in your own devices(which is totally not suggested), just change the folder and file paths above and make sure you have enough spaces left"
   ]
  },
  {
   "cell_type": "code",
   "execution_count": 3,
   "metadata": {},
   "outputs": [
    {
     "name": "stderr",
     "output_type": "stream",
     "text": [
      "100%|██████████| 20191/20191 [01:15<00:00, 267.46it/s] \n",
      "100%|██████████| 24303/24303 [01:49<00:00, 222.01it/s] \n",
      "100%|██████████| 26815/26815 [02:30<00:00, 177.86it/s] \n",
      "100%|██████████| 29018/29018 [02:06<00:00, 229.19it/s] \n"
     ]
    }
   ],
   "source": [
    "for i,file in enumerate(file_list):\n",
    "    dict_tle = {}\n",
    "    year_index = year_list[i]\n",
    "    part_index = part_list[i]\n",
    "\n",
    "    with open(file, encoding = 'utf-8') as f1:\n",
    "        line = f1.readline()\n",
    "        count = 1\n",
    "        while line:\n",
    "            sate_id = line[2:7]\n",
    "            \n",
    "            if not (sate_id in dict_tle):\n",
    "                dict_tle[sate_id] = {}\n",
    "                dict_tle[sate_id]['timestamp']=[]\n",
    "                dict_tle[sate_id]['inclination'] = []\n",
    "                dict_tle[sate_id]['eccetricity'] = []\n",
    "                dict_tle[sate_id]['AoP'] = []\n",
    "                dict_tle[sate_id]['mean_anomaly'] = []\n",
    "                dict_tle[sate_id]['mean_motion'] = []\n",
    "            year = line[18:20]\n",
    "            time_rest = line[20:32]\n",
    "            timestamp = datetime(year=int(year)+2000,month=1,day=1)+timedelta(days=float(time_rest))\n",
    "            dict_tle[sate_id]['timestamp'].append(timestamp.timestamp())\n",
    "            \n",
    "            line = f1.readline()\n",
    "            count+=1\n",
    "            while line=='\\\\\\n':\n",
    "                count+=1\n",
    "                line = f1.readline()\n",
    "                \n",
    "            dict_tle[sate_id]['inclination'].append(float(line[8:16]))\n",
    "            dict_tle[sate_id]['eccetricity'].append(float('0.'+line[26:33]))\n",
    "            dict_tle[sate_id]['AoP'].append(float(line[34:42]))\n",
    "            dict_tle[sate_id]['mean_anomaly'].append(float(line[43:51]))\n",
    "            dict_tle[sate_id]['mean_motion'].append(float(line[52:63]))\n",
    "            line = f1.readline()\n",
    "            count+=1\n",
    "            while line=='\\\\\\n':\n",
    "                count+=1\n",
    "                line = f1.readline()\n",
    "            \n",
    "    f1.close()\n",
    "\n",
    "    for item in tqdm(dict_tle):\n",
    "        tle_data = dict_tle[item]\n",
    "        f2 = open(f'{folder_list[i]}\\\\{int(item)}_{year_index}_P{part_index}.csv','w',newline='')\n",
    "        writer = csv.writer(f2)\n",
    "        header = ['time','inclination','eccetricity','AoP','mean_anomaly','mean_motion']\n",
    "        writer.writerow(header)\n",
    "        for j,item in enumerate(tle_data['timestamp']):\n",
    "            row = [item,tle_data['inclination'][j],tle_data['eccetricity'][j],tle_data['AoP'][j],tle_data['mean_anomaly'][j],tle_data['mean_motion'][j]]\n",
    "            writer.writerow(row)\n",
    "        f2.close()"
   ]
  }
 ],
 "metadata": {
  "kernelspec": {
   "display_name": "Python 3.9.12 ('gnss_ir')",
   "language": "python",
   "name": "python3"
  },
  "language_info": {
   "codemirror_mode": {
    "name": "ipython",
    "version": 3
   },
   "file_extension": ".py",
   "mimetype": "text/x-python",
   "name": "python",
   "nbconvert_exporter": "python",
   "pygments_lexer": "ipython3",
   "version": "3.9.12"
  },
  "orig_nbformat": 4,
  "vscode": {
   "interpreter": {
    "hash": "bef03f3b2611f05ae925db1195bade39f419d97b5bf9db298e90bacf7555e223"
   }
  }
 },
 "nbformat": 4,
 "nbformat_minor": 2
}
