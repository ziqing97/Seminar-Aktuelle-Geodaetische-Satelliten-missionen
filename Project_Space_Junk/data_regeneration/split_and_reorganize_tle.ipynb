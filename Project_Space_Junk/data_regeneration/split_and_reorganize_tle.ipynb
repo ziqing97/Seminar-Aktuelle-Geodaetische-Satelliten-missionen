{
 "cells": [
  {
   "cell_type": "code",
   "execution_count": 13,
   "metadata": {},
   "outputs": [],
   "source": [
    "import csv\n",
    "from datetime import datetime \n",
    "from datetime import timedelta\n",
    "from tqdm import tqdm\n"
   ]
  },
  {
   "cell_type": "markdown",
   "metadata": {},
   "source": [
    "I know the code in the block below looks super stupid, but there were different   \n",
    "mini problems in the different tle data so I have to do in this way to look after each file alone"
   ]
  },
  {
   "cell_type": "code",
   "execution_count": 2,
   "metadata": {},
   "outputs": [],
   "source": [
    "file_list = []\n",
    "file_list.append(\"E:\\\\OneDrive\\\\TLEs\\\\tle2004_1of8.txt\\\\tle2004_1of8.txt\")\n",
    "file_list.append(\"E:\\\\OneDrive\\\\TLEs\\\\tle2004_2of8.txt\\\\tle2004_2of8.txt\")\n",
    "file_list.append(\"E:\\\\OneDrive\\\\TLEs\\\\tle2004_3of8.txt\\\\tle2004_3of8.txt\")\n",
    "file_list.append(\"E:\\\\OneDrive\\\\TLEs\\\\tle2004_4of8.txt\\\\tle2004_4of8.txt\")\n",
    "file_list.append(\"E:\\\\OneDrive\\\\TLEs\\\\tle2004_5of8.txt\\\\tle2004_5of8.txt\")\n",
    "file_list.append(\"E:\\\\OneDrive\\\\TLEs\\\\tle2004_6of8.txt\\\\tle2004_6of8.txt\")\n",
    "file_list.append(\"E:\\\\OneDrive\\\\TLEs\\\\tle2004_7of8.txt\\\\tle2004_7of8.txt\")\n",
    "file_list.append(\"E:\\\\OneDrive\\\\TLEs\\\\tle2005.txt\\\\tle2005.txt\")\n",
    "file_list.append(\"E:\\\\OneDrive\\\\TLEs\\\\tle2006.txt\\\\tle2006.txt\")\n",
    "file_list.append(\"E:\\\\OneDrive\\\\TLEs\\\\tle2007.txt\\\\tle2007.txt\")\n",
    "file_list.append(\"E:\\\\OneDrive\\\\TLEs\\\\tle2008.txt\\\\tle2008.txt\")\n",
    "file_list.append(\"E:\\\\OneDrive\\\\TLEs\\\\tle2009.txt\\\\tle2009.txt\")\n",
    "file_list.append(\"E:\\\\OneDrive\\\\TLEs\\\\tle2010.txt\\\\tle2010.txt\")\n",
    "file_list.append(\"E:\\\\OneDrive\\\\TLEs\\\\tle2011.txt\\\\tle2011.txt\")\n",
    "file_list.append(\"E:\\\\OneDrive\\\\TLEs\\\\tle2012.txt\\\\tle2012.txt\")\n",
    "file_list.append(\"E:\\\\OneDrive\\\\TLEs\\\\tle2013.txt\\\\tle2013.txt\")\n",
    "file_list.append(\"E:\\\\OneDrive\\\\TLEs\\\\tle2014.txt\\\\tle2014.txt\")\n",
    "file_list.append(\"E:\\\\OneDrive\\\\TLEs\\\\tle2015.txt\\\\tle2015.txt\")\n",
    "file_list.append(\"E:\\\\OneDrive\\\\TLEs\\\\tle2016.txt\\\\tle2016.txt\")\n",
    "file_list.append(\"E:\\\\OneDrive\\\\TLEs\\\\tle2017.txt\\\\tle2017.txt\")\n",
    "file_list.append(\"E:\\\\OneDrive\\\\TLEs\\\\tle2018.txt\\\\tle2018.txt\")\n",
    "file_list.append(\"E:\\\\OneDrive\\\\TLEs\\\\tle2019.txt\\\\tle2019.txt\")\n",
    "file_list.append(\"E:\\\\OneDrive\\\\TLEs\\\\tle2020.txt\\\\tle2020.txt\")\n",
    "file_list.append(\"E:\\\\OneDrive\\\\TLEs\\\\tle2021.txt\\\\tle2021.txt\")\n",
    "file_list.append(\"E:\\\\OneDrive\\\\TLEs\\\\tle2022_sofar.txt\\\\tle2022_sofar.txt\")\n",
    "\n",
    "folder_list=[]\n",
    "folder_list.append(\"E:\\\\OneDrive\\\\TLEs\\\\tle2004_1of8.txt\")\n",
    "folder_list.append(\"E:\\\\OneDrive\\\\TLEs\\\\tle2004_2of8.txt\")\n",
    "folder_list.append(\"E:\\\\OneDrive\\\\TLEs\\\\tle2004_3of8.txt\")\n",
    "folder_list.append(\"E:\\\\OneDrive\\\\TLEs\\\\tle2004_4of8.txt\")\n",
    "folder_list.append(\"E:\\\\OneDrive\\\\TLEs\\\\tle2004_5of8.txt\")\n",
    "folder_list.append(\"E:\\\\OneDrive\\\\TLEs\\\\tle2004_6of8.txt\")\n",
    "folder_list.append(\"E:\\\\OneDrive\\\\TLEs\\\\tle2004_7of8.txt\")\n",
    "folder_list.append(\"E:\\\\OneDrive\\\\TLEs\\\\tle2004_8of8.txt\")\n",
    "folder_list.append(\"E:\\\\OneDrive\\\\TLEs\\\\tle2005.txt\")\n",
    "folder_list.append(\"E:\\\\OneDrive\\\\TLEs\\\\tle2006.txt\")\n",
    "folder_list.append(\"E:\\\\OneDrive\\\\TLEs\\\\tle2007.txt\")\n",
    "folder_list.append(\"E:\\\\OneDrive\\\\TLEs\\\\tle2008.txt\")\n",
    "folder_list.append(\"E:\\\\OneDrive\\\\TLEs\\\\tle2009.txt\")\n",
    "folder_list.append(\"E:\\\\OneDrive\\\\TLEs\\\\tle2010.txt\")\n",
    "folder_list.append(\"E:\\\\OneDrive\\\\TLEs\\\\tle2011.txt\")\n",
    "folder_list.append(\"E:\\\\OneDrive\\\\TLEs\\\\tle2012.txt\")\n",
    "folder_list.append(\"E:\\\\OneDrive\\\\TLEs\\\\tle2013.txt\")\n",
    "folder_list.append(\"E:\\\\OneDrive\\\\TLEs\\\\tle2014.txt\")\n",
    "folder_list.append(\"E:\\\\OneDrive\\\\TLEs\\\\tle2015.txt\")\n",
    "folder_list.append(\"E:\\\\OneDrive\\\\TLEs\\\\tle2016.txt\")\n",
    "folder_list.append(\"E:\\\\OneDrive\\\\TLEs\\\\tle2017.txt\")\n",
    "folder_list.append(\"E:\\\\OneDrive\\\\TLEs\\\\tle2018.txt\")\n",
    "folder_list.append(\"E:\\\\OneDrive\\\\TLEs\\\\tle2019.txt\")\n",
    "folder_list.append(\"E:\\\\OneDrive\\\\TLEs\\\\tle2020.txt\")\n",
    "folder_list.append(\"E:\\\\OneDrive\\\\TLEs\\\\tle2021.txt\")\n",
    "folder_list.append(\"E:\\\\OneDrive\\\\TLEs\\\\tle2022_sofar.txt\")\n",
    "\n",
    "year_list = [2004,2004,2004,2004,2004,2004,2004,2004,2005,2006,2007,2008,2009,2010,2011,2012,2013,2014,2015,2016,2017,2018,2019,2020,2021,2022]\n",
    "part_list = [1,2,3,4,5,6,7,8,1,1,1,1,1,1,1,1,1,1,1,1,1,1,1,1,1,1]"
   ]
  },
  {
   "cell_type": "markdown",
   "metadata": {},
   "source": [
    "and then, split the big file into many small files organized in satellite index and year\n",
    "\n",
    "time(in unixtime), inclination, eccetricity, AoP, mean_anomaly and mean_motion are extracted\n",
    "\n",
    "If you want to try this in your own devices(which is totally not suggested), just change the folder and file paths above and make sure you have enough spaces left"
   ]
  },
  {
   "cell_type": "code",
   "execution_count": 3,
   "metadata": {},
   "outputs": [
    {
     "ename": "OSError",
     "evalue": "[Errno 22] Invalid argument",
     "output_type": "error",
     "traceback": [
      "\u001b[1;31m---------------------------------------------------------------------------\u001b[0m",
      "\u001b[1;31mOSError\u001b[0m                                   Traceback (most recent call last)",
      "\u001b[1;32me:\\OneDrive\\Studium\\M5-AktuelleGeodaetischeSatellitenmissionen\\Seminar-Aktuelle-Geodaetische-Satelliten-missionen\\Project_Space_Junk\\split_and_reorganize_tle.ipynb Cell 5\u001b[0m in \u001b[0;36m<cell line: 1>\u001b[1;34m()\u001b[0m\n\u001b[0;32m     <a href='vscode-notebook-cell:/e%3A/OneDrive/Studium/M5-AktuelleGeodaetischeSatellitenmissionen/Seminar-Aktuelle-Geodaetische-Satelliten-missionen/Project_Space_Junk/split_and_reorganize_tle.ipynb#W4sZmlsZQ%3D%3D?line=23'>24</a>\u001b[0m \u001b[39melse\u001b[39;00m:\n\u001b[0;32m     <a href='vscode-notebook-cell:/e%3A/OneDrive/Studium/M5-AktuelleGeodaetischeSatellitenmissionen/Seminar-Aktuelle-Geodaetische-Satelliten-missionen/Project_Space_Junk/split_and_reorganize_tle.ipynb#W4sZmlsZQ%3D%3D?line=24'>25</a>\u001b[0m     timestamp \u001b[39m=\u001b[39m datetime(year\u001b[39m=\u001b[39myear\u001b[39m+\u001b[39m\u001b[39m1900\u001b[39m,month\u001b[39m=\u001b[39m\u001b[39m1\u001b[39m,day\u001b[39m=\u001b[39m\u001b[39m1\u001b[39m)\u001b[39m+\u001b[39mtimedelta(days\u001b[39m=\u001b[39m\u001b[39mfloat\u001b[39m(time_rest))\n\u001b[1;32m---> <a href='vscode-notebook-cell:/e%3A/OneDrive/Studium/M5-AktuelleGeodaetischeSatellitenmissionen/Seminar-Aktuelle-Geodaetische-Satelliten-missionen/Project_Space_Junk/split_and_reorganize_tle.ipynb#W4sZmlsZQ%3D%3D?line=25'>26</a>\u001b[0m dict_tle[sate_id][\u001b[39m'\u001b[39m\u001b[39mtimestamp\u001b[39m\u001b[39m'\u001b[39m]\u001b[39m.\u001b[39mappend(timestamp\u001b[39m.\u001b[39;49mtimestamp())\n\u001b[0;32m     <a href='vscode-notebook-cell:/e%3A/OneDrive/Studium/M5-AktuelleGeodaetischeSatellitenmissionen/Seminar-Aktuelle-Geodaetische-Satelliten-missionen/Project_Space_Junk/split_and_reorganize_tle.ipynb#W4sZmlsZQ%3D%3D?line=27'>28</a>\u001b[0m line \u001b[39m=\u001b[39m f1\u001b[39m.\u001b[39mreadline()\n\u001b[0;32m     <a href='vscode-notebook-cell:/e%3A/OneDrive/Studium/M5-AktuelleGeodaetischeSatellitenmissionen/Seminar-Aktuelle-Geodaetische-Satelliten-missionen/Project_Space_Junk/split_and_reorganize_tle.ipynb#W4sZmlsZQ%3D%3D?line=28'>29</a>\u001b[0m count\u001b[39m+\u001b[39m\u001b[39m=\u001b[39m\u001b[39m1\u001b[39m\n",
      "\u001b[1;31mOSError\u001b[0m: [Errno 22] Invalid argument"
     ]
    }
   ],
   "source": [
    "for i,file in enumerate(file_list):\n",
    "    dict_tle = {}\n",
    "    year_index = year_list[i]\n",
    "    part_index = part_list[i]\n",
    "\n",
    "    with open(file, encoding = 'utf-8') as f1:\n",
    "        line = f1.readline()\n",
    "        count = 1\n",
    "        while line:\n",
    "            sate_id = line[2:7]\n",
    "            \n",
    "            if not (sate_id in dict_tle):\n",
    "                dict_tle[sate_id] = {}\n",
    "                dict_tle[sate_id]['timestamp']=[]\n",
    "                dict_tle[sate_id]['inclination'] = []\n",
    "                dict_tle[sate_id]['eccentricity'] = []\n",
    "                dict_tle[sate_id]['AoP'] = []\n",
    "                dict_tle[sate_id]['mean_anomaly'] = []\n",
    "                dict_tle[sate_id]['mean_motion'] = []\n",
    "            year = int(line[18:20])\n",
    "            time_rest = line[20:32]\n",
    "            timestamp = datetime(year=year+2000,month=1,day=1)+timedelta(days=float(time_rest))\n",
    "            dict_tle[sate_id]['timestamp'].append(timestamp.timestamp())\n",
    "            \n",
    "            line = f1.readline()\n",
    "            count+=1\n",
    "            while line=='\\\\\\n':\n",
    "                count+=1\n",
    "                line = f1.readline()\n",
    "                \n",
    "            dict_tle[sate_id]['inclination'].append(float(line[8:16]))\n",
    "            dict_tle[sate_id]['eccentricity'].append(float('0.'+line[26:33]))\n",
    "            dict_tle[sate_id]['AoP'].append(float(line[34:42]))\n",
    "            dict_tle[sate_id]['mean_anomaly'].append(float(line[43:51]))\n",
    "            dict_tle[sate_id]['mean_motion'].append(float(line[52:63]))\n",
    "            line = f1.readline()\n",
    "            count+=1\n",
    "            while line=='\\\\\\n':\n",
    "                count+=1\n",
    "                line = f1.readline()\n",
    "            \n",
    "    f1.close()\n",
    "\n",
    "    for item in tqdm(dict_tle):\n",
    "        tle_data = dict_tle[item]\n",
    "        f2 = open(f'{folder_list[i]}\\\\{int(item)}_{year_index}_P{part_index}.csv','w',newline='')\n",
    "        writer = csv.writer(f2)\n",
    "        header = ['time','inclination','eccentricity','AoP','mean_anomaly','mean_motion']\n",
    "        writer.writerow(header)\n",
    "        for j,item in enumerate(tle_data['timestamp']):\n",
    "            row = [item,tle_data['inclination'][j],tle_data['eccentricity'][j],tle_data['AoP'][j],tle_data['mean_anomaly'][j],tle_data['mean_motion'][j]]\n",
    "            writer.writerow(row)\n",
    "        f2.close()"
   ]
  },
  {
   "cell_type": "code",
   "execution_count": 14,
   "metadata": {},
   "outputs": [
    {
     "ename": "TypeError",
     "evalue": "list.append() takes exactly one argument (0 given)",
     "output_type": "error",
     "traceback": [
      "\u001b[1;31m---------------------------------------------------------------------------\u001b[0m",
      "\u001b[1;31mTypeError\u001b[0m                                 Traceback (most recent call last)",
      "\u001b[1;32me:\\OneDrive\\Studium\\M5-AktuelleGeodaetischeSatellitenmissionen\\Seminar-Aktuelle-Geodaetische-Satelliten-missionen\\Project_Space_Junk\\split_and_reorganize_tle.ipynb Cell 6\u001b[0m in \u001b[0;36m<cell line: 1>\u001b[1;34m()\u001b[0m\n\u001b[1;32m----> <a href='vscode-notebook-cell:/e%3A/OneDrive/Studium/M5-AktuelleGeodaetischeSatellitenmissionen/Seminar-Aktuelle-Geodaetische-Satelliten-missionen/Project_Space_Junk/split_and_reorganize_tle.ipynb#W5sZmlsZQ%3D%3D?line=0'>1</a>\u001b[0m dict_tle[sate_id][\u001b[39m'\u001b[39;49m\u001b[39mtimestamp\u001b[39;49m\u001b[39m'\u001b[39;49m]\u001b[39m.\u001b[39;49mappend()\n",
      "\u001b[1;31mTypeError\u001b[0m: list.append() takes exactly one argument (0 given)"
     ]
    }
   ],
   "source": [
    "dict_tle[sate_id]['timestamp'].append()"
   ]
  },
  {
   "cell_type": "code",
   "execution_count": 12,
   "metadata": {},
   "outputs": [
    {
     "data": {
      "text/plain": [
       "datetime.datetime(1969, 12, 31, 23, 59, 50, 64)"
      ]
     },
     "execution_count": 12,
     "metadata": {},
     "output_type": "execute_result"
    }
   ],
   "source": [
    "timestamp"
   ]
  }
 ],
 "metadata": {
  "kernelspec": {
   "display_name": "Python 3.9.12 ('gnss_ir')",
   "language": "python",
   "name": "python3"
  },
  "language_info": {
   "codemirror_mode": {
    "name": "ipython",
    "version": 3
   },
   "file_extension": ".py",
   "mimetype": "text/x-python",
   "name": "python",
   "nbconvert_exporter": "python",
   "pygments_lexer": "ipython3",
   "version": "3.9.12"
  },
  "orig_nbformat": 4,
  "vscode": {
   "interpreter": {
    "hash": "bef03f3b2611f05ae925db1195bade39f419d97b5bf9db298e90bacf7555e223"
   }
  }
 },
 "nbformat": 4,
 "nbformat_minor": 2
}
