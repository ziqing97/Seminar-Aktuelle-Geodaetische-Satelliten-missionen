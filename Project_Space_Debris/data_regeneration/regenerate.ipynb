{
 "cells": [
  {
   "cell_type": "code",
   "execution_count": 1,
   "metadata": {},
   "outputs": [
    {
     "ename": "KeyboardInterrupt",
     "evalue": "",
     "output_type": "error",
     "traceback": [
      "\u001b[1;31m---------------------------------------------------------------------------\u001b[0m",
      "\u001b[1;31mKeyboardInterrupt\u001b[0m                         Traceback (most recent call last)",
      "\u001b[1;32me:\\OneDrive\\Studium\\M5-AktuelleGeodaetischeSatellitenmissionen\\Seminar-Aktuelle-Geodaetische-Satelliten-missionen\\Project_Space_Debris\\data_regeneration\\regenerate.ipynb Cell 1\u001b[0m in \u001b[0;36m<cell line: 4>\u001b[1;34m()\u001b[0m\n\u001b[0;32m      <a href='vscode-notebook-cell:/e%3A/OneDrive/Studium/M5-AktuelleGeodaetischeSatellitenmissionen/Seminar-Aktuelle-Geodaetische-Satelliten-missionen/Project_Space_Debris/data_regeneration/regenerate.ipynb#W0sZmlsZQ%3D%3D?line=1'>2</a>\u001b[0m \u001b[39mimport\u001b[39;00m \u001b[39mcsv\u001b[39;00m\n\u001b[0;32m      <a href='vscode-notebook-cell:/e%3A/OneDrive/Studium/M5-AktuelleGeodaetischeSatellitenmissionen/Seminar-Aktuelle-Geodaetische-Satelliten-missionen/Project_Space_Debris/data_regeneration/regenerate.ipynb#W0sZmlsZQ%3D%3D?line=2'>3</a>\u001b[0m \u001b[39mimport\u001b[39;00m \u001b[39mdatetime\u001b[39;00m\n\u001b[1;32m----> <a href='vscode-notebook-cell:/e%3A/OneDrive/Studium/M5-AktuelleGeodaetischeSatellitenmissionen/Seminar-Aktuelle-Geodaetische-Satelliten-missionen/Project_Space_Debris/data_regeneration/regenerate.ipynb#W0sZmlsZQ%3D%3D?line=3'>4</a>\u001b[0m \u001b[39mimport\u001b[39;00m \u001b[39mpandas\u001b[39;00m \u001b[39mas\u001b[39;00m \u001b[39mpd\u001b[39;00m\n\u001b[0;32m      <a href='vscode-notebook-cell:/e%3A/OneDrive/Studium/M5-AktuelleGeodaetischeSatellitenmissionen/Seminar-Aktuelle-Geodaetische-Satelliten-missionen/Project_Space_Debris/data_regeneration/regenerate.ipynb#W0sZmlsZQ%3D%3D?line=4'>5</a>\u001b[0m \u001b[39mfrom\u001b[39;00m \u001b[39mtqdm\u001b[39;00m \u001b[39mimport\u001b[39;00m tqdm\n",
      "File \u001b[1;32mf:\\Anaconda\\envs\\gnss_ir\\lib\\site-packages\\pandas\\__init__.py:11\u001b[0m, in \u001b[0;36m<module>\u001b[1;34m\u001b[0m\n\u001b[0;32m      9\u001b[0m \u001b[39mfor\u001b[39;00m dependency \u001b[39min\u001b[39;00m hard_dependencies:\n\u001b[0;32m     10\u001b[0m     \u001b[39mtry\u001b[39;00m:\n\u001b[1;32m---> 11\u001b[0m         \u001b[39m__import__\u001b[39;49m(dependency)\n\u001b[0;32m     12\u001b[0m     \u001b[39mexcept\u001b[39;00m \u001b[39mImportError\u001b[39;00m \u001b[39mas\u001b[39;00m e:\n\u001b[0;32m     13\u001b[0m         missing_dependencies\u001b[39m.\u001b[39mappend(\u001b[39mf\u001b[39m\u001b[39m\"\u001b[39m\u001b[39m{\u001b[39;00mdependency\u001b[39m}\u001b[39;00m\u001b[39m: \u001b[39m\u001b[39m{\u001b[39;00me\u001b[39m}\u001b[39;00m\u001b[39m\"\u001b[39m)\n",
      "File \u001b[1;32mf:\\Anaconda\\envs\\gnss_ir\\lib\\site-packages\\numpy\\__init__.py:155\u001b[0m, in \u001b[0;36m<module>\u001b[1;34m\u001b[0m\n\u001b[0;32m    153\u001b[0m \u001b[39mfrom\u001b[39;00m \u001b[39m.\u001b[39;00m \u001b[39mimport\u001b[39;00m fft\n\u001b[0;32m    154\u001b[0m \u001b[39mfrom\u001b[39;00m \u001b[39m.\u001b[39;00m \u001b[39mimport\u001b[39;00m polynomial\n\u001b[1;32m--> 155\u001b[0m \u001b[39mfrom\u001b[39;00m \u001b[39m.\u001b[39;00m \u001b[39mimport\u001b[39;00m random\n\u001b[0;32m    156\u001b[0m \u001b[39mfrom\u001b[39;00m \u001b[39m.\u001b[39;00m \u001b[39mimport\u001b[39;00m ctypeslib\n\u001b[0;32m    157\u001b[0m \u001b[39mfrom\u001b[39;00m \u001b[39m.\u001b[39;00m \u001b[39mimport\u001b[39;00m ma\n",
      "File \u001b[1;32mf:\\Anaconda\\envs\\gnss_ir\\lib\\site-packages\\numpy\\random\\__init__.py:180\u001b[0m, in \u001b[0;36m<module>\u001b[1;34m\u001b[0m\n\u001b[0;32m    126\u001b[0m __all__ \u001b[39m=\u001b[39m [\n\u001b[0;32m    127\u001b[0m     \u001b[39m'\u001b[39m\u001b[39mbeta\u001b[39m\u001b[39m'\u001b[39m,\n\u001b[0;32m    128\u001b[0m     \u001b[39m'\u001b[39m\u001b[39mbinomial\u001b[39m\u001b[39m'\u001b[39m,\n\u001b[1;32m   (...)\u001b[0m\n\u001b[0;32m    176\u001b[0m     \u001b[39m'\u001b[39m\u001b[39mzipf\u001b[39m\u001b[39m'\u001b[39m,\n\u001b[0;32m    177\u001b[0m ]\n\u001b[0;32m    179\u001b[0m \u001b[39m# add these for module-freeze analysis (like PyInstaller)\u001b[39;00m\n\u001b[1;32m--> 180\u001b[0m \u001b[39mfrom\u001b[39;00m \u001b[39m.\u001b[39;00m \u001b[39mimport\u001b[39;00m _pickle\n\u001b[0;32m    181\u001b[0m \u001b[39mfrom\u001b[39;00m \u001b[39m.\u001b[39;00m \u001b[39mimport\u001b[39;00m _common\n\u001b[0;32m    182\u001b[0m \u001b[39mfrom\u001b[39;00m \u001b[39m.\u001b[39;00m \u001b[39mimport\u001b[39;00m _bounded_integers\n",
      "File \u001b[1;32mf:\\Anaconda\\envs\\gnss_ir\\lib\\site-packages\\numpy\\random\\_pickle.py:2\u001b[0m, in \u001b[0;36m<module>\u001b[1;34m\u001b[0m\n\u001b[0;32m      1\u001b[0m \u001b[39mfrom\u001b[39;00m \u001b[39m.\u001b[39;00m\u001b[39mmtrand\u001b[39;00m \u001b[39mimport\u001b[39;00m RandomState\n\u001b[1;32m----> 2\u001b[0m \u001b[39mfrom\u001b[39;00m \u001b[39m.\u001b[39;00m\u001b[39m_philox\u001b[39;00m \u001b[39mimport\u001b[39;00m Philox\n\u001b[0;32m      3\u001b[0m \u001b[39mfrom\u001b[39;00m \u001b[39m.\u001b[39;00m\u001b[39m_pcg64\u001b[39;00m \u001b[39mimport\u001b[39;00m PCG64, PCG64DXSM\n\u001b[0;32m      4\u001b[0m \u001b[39mfrom\u001b[39;00m \u001b[39m.\u001b[39;00m\u001b[39m_sfc64\u001b[39;00m \u001b[39mimport\u001b[39;00m SFC64\n",
      "File \u001b[1;32m<frozen importlib._bootstrap>:398\u001b[0m, in \u001b[0;36mparent\u001b[1;34m(self)\u001b[0m\n",
      "\u001b[1;31mKeyboardInterrupt\u001b[0m: "
     ]
    }
   ],
   "source": [
    "import os\n",
    "import csv\n",
    "import datetime\n",
    "import pandas as pd\n",
    "from tqdm import tqdm"
   ]
  },
  {
   "attachments": {},
   "cell_type": "markdown",
   "metadata": {},
   "source": [
    "# first extract the data"
   ]
  },
  {
   "cell_type": "code",
   "execution_count": null,
   "metadata": {},
   "outputs": [
    {
     "name": "stderr",
     "output_type": "stream",
     "text": [
      "100%|██████████| 9073/9073 [04:59<00:00, 30.32it/s]\n",
      "100%|██████████| 8895/8895 [04:49<00:00, 30.75it/s] \n",
      "100%|██████████| 8784/8784 [04:40<00:00, 31.30it/s] \n",
      "100%|██████████| 8569/8569 [02:54<00:00, 49.00it/s] \n",
      "100%|██████████| 8536/8536 [03:06<00:00, 45.80it/s]\n",
      "100%|██████████| 18645/18645 [12:33<00:00, 24.74it/s] \n",
      "100%|██████████| 15288/15288 [29:12<00:00,  8.72it/s] \n",
      "100%|██████████| 16019/16019 [08:13<00:00, 32.46it/s] \n",
      "100%|██████████| 16714/16714 [21:03<00:00, 13.23it/s] \n",
      "100%|██████████| 12198/12198 [08:38<00:00, 23.54it/s] \n",
      "100%|██████████| 13032/13032 [08:48<00:00, 24.66it/s] \n",
      "100%|██████████| 15457/15457 [10:06<00:00, 25.49it/s]\n",
      "100%|██████████| 15713/15713 [11:13<00:00, 23.34it/s]\n",
      "100%|██████████| 16105/16105 [11:07<00:00, 24.12it/s] \n",
      "100%|██████████| 16677/16677 [11:10<00:00, 24.87it/s]\n",
      "100%|██████████| 16442/16442 [10:58<00:00, 24.95it/s] \n",
      "100%|██████████| 17144/17144 [08:24<00:00, 34.01it/s] \n",
      "100%|██████████| 17615/17615 [08:49<00:00, 33.26it/s] \n",
      "100%|██████████| 17634/17634 [10:33<00:00, 27.85it/s]\n",
      "100%|██████████| 18124/18124 [12:11<00:00, 24.76it/s]\n",
      "100%|██████████| 19205/19205 [13:38<00:00, 23.46it/s]\n",
      "100%|██████████| 20456/20456 [14:51<00:00, 22.94it/s]\n",
      "100%|██████████| 22619/22619 [15:40<00:00, 24.05it/s]\n",
      "100%|██████████| 25612/25612 [19:29<00:00, 21.89it/s] \n",
      "100%|██████████| 28305/28305 [24:31<00:00, 19.23it/s]\n",
      "100%|██████████| 26936/26936 [23:17<00:00, 19.27it/s] \n"
     ]
    }
   ],
   "source": [
    "folder_list = []\n",
    "filelist = os.listdir('E:\\OneDrive\\TLEs\\origin\\\\2004_pre\\\\')\n",
    "for item in filelist:\n",
    "    folder_list.append('E:\\OneDrive\\TLEs\\origin\\\\2004_pre\\\\'+item)\n",
    "\n",
    "for folder in folder_list:\n",
    "    files = os.listdir(folder)\n",
    "    for item in tqdm(files):\n",
    "        if item.endswith('.csv'):\n",
    "            # item = files[0]\n",
    "            try:\n",
    "                path = f'{folder}\\\\{item}'\n",
    "                name = item[0:-12]\n",
    "                part = item[-6:-4]\n",
    "                df_temp = pd.read_csv(path,index_col=0)\n",
    "\n",
    "                df_temp.insert(1,'year',0)\n",
    "                for time in df_temp.index:\n",
    "                    y = datetime.datetime.fromtimestamp(time).year\n",
    "                    df_temp['year'].at[time] = y\n",
    "\n",
    "                year_list = df_temp['year'].drop_duplicates()\n",
    "\n",
    "                for y in year_list:\n",
    "                    df_year = df_temp[df_temp['year'] == y]\n",
    "                    df_year = df_year.drop(columns=['year'])\n",
    "                    if y>2004:\n",
    "                        part = y-2030\n",
    "                    if y>2022:\n",
    "                        y=y-100\n",
    "                    if not os.path.exists(f'E:\\\\OneDrive\\\\TLEs\\\\tle{y}.txt'):\n",
    "                        os.makedirs(f'E:\\\\OneDrive\\\\TLEs\\\\tle{y}.txt')\n",
    "                    storage_path = f'E:\\\\OneDrive\\\\TLEs\\\\tle{y}.txt\\\\{name}_{y}_{part}.csv'\n",
    "                    df_year.to_csv(storage_path)\n",
    "            except:\n",
    "                pass\n",
    "        "
   ]
  },
  {
   "attachments": {},
   "cell_type": "markdown",
   "metadata": {},
   "source": [
    "# second combine the data"
   ]
  },
  {
   "cell_type": "code",
   "execution_count": null,
   "metadata": {},
   "outputs": [
    {
     "name": "stderr",
     "output_type": "stream",
     "text": [
      "100%|██████████| 15/15 [00:00<00:00, 55.46it/s]\n",
      "100%|██████████| 51/51 [00:00<00:00, 65.01it/s]\n",
      "100%|██████████| 169/169 [00:01<00:00, 105.43it/s]\n",
      "100%|██████████| 390/390 [00:03<00:00, 110.72it/s]\n",
      "100%|██████████| 443/443 [00:03<00:00, 139.36it/s]\n",
      "100%|██████████| 593/593 [00:06<00:00, 96.79it/s] \n",
      "100%|██████████| 970/970 [00:09<00:00, 107.25it/s]\n",
      "100%|██████████| 1430/1430 [00:11<00:00, 129.10it/s]\n",
      "100%|██████████| 1536/1536 [00:14<00:00, 108.55it/s]\n",
      "100%|██████████| 1734/1734 [00:14<00:00, 117.45it/s]\n",
      "100%|██████████| 2061/2061 [00:14<00:00, 139.14it/s]\n",
      "100%|██████████| 2242/2242 [00:19<00:00, 115.01it/s]\n",
      "100%|██████████| 2831/2831 [00:23<00:00, 118.53it/s]\n",
      "100%|██████████| 2964/2964 [00:31<00:00, 92.74it/s] \n",
      "100%|██████████| 3174/3174 [00:30<00:00, 103.25it/s]\n",
      "100%|██████████| 3293/3293 [00:32<00:00, 101.90it/s]\n",
      "100%|██████████| 3743/3743 [00:31<00:00, 120.05it/s]\n",
      "100%|██████████| 4177/4177 [00:33<00:00, 123.32it/s]\n",
      "100%|██████████| 4637/4637 [00:38<00:00, 121.41it/s]\n",
      "100%|██████████| 4760/4760 [00:38<00:00, 123.02it/s]\n",
      "100%|██████████| 4676/4676 [00:37<00:00, 124.65it/s]\n",
      "100%|██████████| 4661/4661 [00:40<00:00, 116.09it/s]\n",
      "100%|██████████| 4890/4890 [00:41<00:00, 116.46it/s]\n",
      "100%|██████████| 5010/5010 [00:43<00:00, 115.70it/s]\n",
      "100%|██████████| 5273/5273 [00:44<00:00, 117.53it/s]\n",
      "100%|██████████| 5550/5550 [00:46<00:00, 119.48it/s]\n",
      "100%|██████████| 6165/6165 [00:51<00:00, 119.16it/s]\n",
      "100%|██████████| 6724/6724 [00:51<00:00, 130.17it/s]\n",
      "100%|██████████| 7287/7287 [01:16<00:00, 95.80it/s] \n",
      "100%|██████████| 7517/7517 [01:35<00:00, 78.69it/s] \n",
      "100%|██████████| 7176/7176 [01:31<00:00, 78.64it/s] \n",
      "100%|██████████| 6805/6805 [01:28<00:00, 76.74it/s] \n",
      "100%|██████████| 7089/7089 [01:40<00:00, 70.78it/s] \n",
      "100%|██████████| 7038/7038 [01:43<00:00, 67.97it/s] \n",
      "100%|██████████| 7323/7323 [01:48<00:00, 67.31it/s] \n",
      "100%|██████████| 7371/7371 [01:48<00:00, 68.19it/s] \n",
      "100%|██████████| 7452/7452 [01:37<00:00, 76.10it/s] \n",
      "100%|██████████| 8098/8098 [01:20<00:00, 101.16it/s]\n",
      "100%|██████████| 8318/8318 [01:26<00:00, 96.51it/s] \n",
      "100%|██████████| 8339/8339 [01:27<00:00, 94.94it/s] \n",
      "100%|██████████| 8463/8463 [01:31<00:00, 92.12it/s] \n",
      "100%|██████████| 8631/8631 [01:33<00:00, 92.67it/s] \n",
      "100%|██████████| 8613/8613 [03:35<00:00, 39.90it/s] \n",
      "100%|██████████| 8759/8759 [02:51<00:00, 50.94it/s] \n",
      "100%|██████████| 8706/8706 [02:28<00:00, 58.57it/s] \n",
      "100%|██████████| 8830/8830 [05:19<00:00, 27.64it/s] \n",
      "100%|██████████| 8960/8960 [02:24<00:00, 61.91it/s] \n",
      "100%|██████████| 9451/9451 [01:45<00:00, 89.99it/s] \n",
      "100%|██████████| 11793/11793 [02:03<00:00, 95.34it/s] \n",
      "100%|██████████| 12659/12659 [01:23<00:00, 151.70it/s]\n",
      "100%|██████████| 14539/14539 [03:02<00:00, 79.71it/s] \n",
      "100%|██████████| 15321/15321 [04:10<00:00, 61.07it/s] \n",
      "100%|██████████| 15645/15645 [04:28<00:00, 58.20it/s] \n",
      "100%|██████████| 15922/15922 [02:57<00:00, 89.61it/s] \n",
      "100%|██████████| 15821/15821 [01:55<00:00, 137.25it/s]\n",
      "100%|██████████| 16106/16106 [01:57<00:00, 136.80it/s]\n",
      "100%|██████████| 16314/16314 [02:11<00:00, 123.94it/s]\n",
      "100%|██████████| 16439/16439 [02:38<00:00, 103.67it/s]\n",
      "100%|██████████| 17315/17315 [02:47<00:00, 103.42it/s]\n",
      "100%|██████████| 18429/18429 [03:00<00:00, 102.07it/s]\n",
      "100%|██████████| 19292/19292 [03:07<00:00, 102.83it/s]\n",
      "100%|██████████| 21229/21229 [03:48<00:00, 92.97it/s] \n",
      "100%|██████████| 24123/24123 [03:23<00:00, 118.47it/s]\n",
      "100%|██████████| 26885/26885 [05:20<00:00, 83.79it/s] \n"
     ]
    }
   ],
   "source": [
    "folders = os.listdir('E:\\\\OneDrive\\\\TLEs')\n",
    "folders.remove('final_mat_files')\n",
    "folders.remove('origin')\n",
    "folder_to_delete = []\n",
    "for folder in folders:\n",
    "    if (folder[0:3] == 'new') or int(folder[3:7]) > 2023:\n",
    "        folder_to_delete.append(folder)\n",
    "\n",
    "for folder in folder_to_delete:\n",
    "    folders.remove(folder)\n",
    "\n",
    "for folder in folders:\n",
    "    yy = int(folder[3:7])\n",
    "    id_list = []\n",
    "    part_list = []\n",
    "    files = os.listdir(f'E:\\\\OneDrive\\\\TLEs\\\\{folder}')\n",
    "    for file in files:\n",
    "        part_list.append(file[-6:-4])\n",
    "        id_list.append(file[0:-12])\n",
    "    df = pd.DataFrame({'file':files,'id':id_list,'part':part_list})\n",
    "    id_dedup = df['id'].drop_duplicates()\n",
    "    for id in tqdm(id_dedup):\n",
    "        df_temp = df[df['id'] == id]\n",
    "        data_combine = []\n",
    "        for i,f in enumerate(df_temp['file']):\n",
    "            path = f'E:\\\\OneDrive\\\\TLEs\\\\{folder}\\\\{f}'\n",
    "            data_one_file = open(path).readlines()\n",
    "            data_combine = data_combine+data_one_file[1:]\n",
    "\n",
    "        if not os.path.exists(f'E:\\\\OneDrive\\\\TLEs\\\\new_{folder}'):\n",
    "            os.makedirs(f'E:\\\\OneDrive\\\\TLEs\\\\new_{folder}')\n",
    "        f2 = open(f'E:\\\\OneDrive\\\\TLEs\\\\new_{folder}\\\\{id}_{folder[3:7]}.csv','w',newline='')\n",
    "        writer = csv.writer(f2)\n",
    "        header = ['time','inclination','eccentricity','AoP','mean_anomaly','mean_motion']\n",
    "        writer.writerow(header)\n",
    "        f2.writelines(data_combine)\n",
    "        f2.close()"
   ]
  }
 ],
 "metadata": {
  "kernelspec": {
   "display_name": "gnss_ir",
   "language": "python",
   "name": "python3"
  },
  "language_info": {
   "codemirror_mode": {
    "name": "ipython",
    "version": 3
   },
   "file_extension": ".py",
   "mimetype": "text/x-python",
   "name": "python",
   "nbconvert_exporter": "python",
   "pygments_lexer": "ipython3",
   "version": "3.9.12"
  },
  "orig_nbformat": 4,
  "vscode": {
   "interpreter": {
    "hash": "bef03f3b2611f05ae925db1195bade39f419d97b5bf9db298e90bacf7555e223"
   }
  }
 },
 "nbformat": 4,
 "nbformat_minor": 2
}
