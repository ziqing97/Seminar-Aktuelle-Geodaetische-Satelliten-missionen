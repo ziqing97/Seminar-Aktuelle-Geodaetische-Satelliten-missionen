{
 "cells": [
  {
   "cell_type": "code",
   "execution_count": 2,
   "metadata": {},
   "outputs": [],
   "source": [
    "import os\n",
    "import datetime\n",
    "import pandas as pd\n",
    "from tqdm import tqdm"
   ]
  },
  {
   "cell_type": "code",
   "execution_count": 3,
   "metadata": {},
   "outputs": [],
   "source": [
    "folder_list = ['E:\\OneDrive\\TLEs\\origin\\\\2004_pre\\\\tle2004_1of8.txt',\n",
    "'E:\\\\OneDrive\\\\TLEs\\\\origin\\\\2004_pre\\\\tle2004_2of8.txt',\n",
    "'E:\\\\OneDrive\\\\TLEs\\origin\\\\2004_pre\\\\tle2004_3of8.txt',\n",
    "'E:\\\\OneDrive\\\\TLEs\\origin\\\\2004_pre\\\\tle2004_4of8.txt',\n",
    "'E:\\\\OneDrive\\\\TLEs\\origin\\\\2004_pre\\\\tle2004_5of8.txt',\n",
    "'E:\\\\OneDrive\\\\TLEs\\origin\\\\2004_pre\\\\tle2004_6of8.txt',\n",
    "'E:\\\\OneDrive\\\\TLEs\\origin\\\\2004_pre\\\\tle2004_7of8.txt',\n",
    "'E:\\\\OneDrive\\\\TLEs\\origin\\\\2004_pre\\\\tle2004_8of8.txt',]\n"
   ]
  },
  {
   "cell_type": "code",
   "execution_count": 10,
   "metadata": {},
   "outputs": [
    {
     "name": "stderr",
     "output_type": "stream",
     "text": [
      "100%|██████████| 9073/9073 [04:39<00:00, 32.45it/s]\n",
      "100%|██████████| 8895/8895 [04:51<00:00, 30.49it/s] \n",
      "100%|██████████| 8784/8784 [04:48<00:00, 30.44it/s] \n",
      "100%|██████████| 8569/8569 [03:08<00:00, 45.46it/s] \n",
      "100%|██████████| 8536/8536 [03:15<00:00, 43.72it/s]\n",
      "100%|██████████| 18645/18645 [12:47<00:00, 24.28it/s] \n",
      "100%|██████████| 15288/15288 [30:59<00:00,  8.22it/s] \n",
      "100%|██████████| 16019/16019 [08:15<00:00, 32.33it/s]\n"
     ]
    }
   ],
   "source": [
    "for folder in folder_list:\n",
    "    files = os.listdir(folder)\n",
    "    for item in tqdm(files):\n",
    "        if item.endswith('.csv'):\n",
    "            # item = files[0]\n",
    "            path = f'{folder}\\\\{item}'\n",
    "            name = item[0:-12]\n",
    "            part = item[-6:-4]\n",
    "            df_temp = pd.read_csv(path,index_col=0)\n",
    "\n",
    "            df_temp.insert(1,'year',0)\n",
    "            for time in df_temp.index:\n",
    "                y = datetime.datetime.fromtimestamp(time).year\n",
    "                df_temp['year'].at[time] = y\n",
    "\n",
    "            year_list = df_temp['year'].drop_duplicates()\n",
    "\n",
    "            for y in year_list:\n",
    "                df_year = df_temp[df_temp['year'] == y]\n",
    "                df_year = df_year.drop(columns=['year'])\n",
    "                if y>2022:\n",
    "                    y=y-100\n",
    "                if y>2004:\n",
    "                    continue\n",
    "                if not os.path.exists(f'E:\\\\OneDrive\\\\TLEs\\\\tle{y}.txt'):\n",
    "                    os.makedirs(f'E:\\\\OneDrive\\\\TLEs\\\\tle{y}.txt')\n",
    "                storage_path = f'E:\\\\OneDrive\\\\TLEs\\\\tle{y}.txt\\\\{name}_{y}_{part}.csv'\n",
    "                df_year.to_csv(storage_path)\n",
    "        "
   ]
  }
 ],
 "metadata": {
  "kernelspec": {
   "display_name": "gnss_ir",
   "language": "python",
   "name": "python3"
  },
  "language_info": {
   "codemirror_mode": {
    "name": "ipython",
    "version": 3
   },
   "file_extension": ".py",
   "mimetype": "text/x-python",
   "name": "python",
   "nbconvert_exporter": "python",
   "pygments_lexer": "ipython3",
   "version": "3.9.12 (main, Apr  4 2022, 05:22:27) [MSC v.1916 64 bit (AMD64)]"
  },
  "orig_nbformat": 4,
  "vscode": {
   "interpreter": {
    "hash": "bef03f3b2611f05ae925db1195bade39f419d97b5bf9db298e90bacf7555e223"
   }
  }
 },
 "nbformat": 4,
 "nbformat_minor": 2
}
