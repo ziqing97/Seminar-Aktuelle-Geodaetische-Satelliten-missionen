{
 "cells": [
  {
   "cell_type": "code",
   "execution_count": 16,
   "metadata": {},
   "outputs": [],
   "source": [
    "import os\n",
    "import pandas as pd\n",
    "import csv\n",
    "from tqdm import tqdm"
   ]
  },
  {
   "cell_type": "code",
   "execution_count": 17,
   "metadata": {},
   "outputs": [],
   "source": [
    "folders = os.listdir('E:\\\\OneDrive\\\\TLEs')"
   ]
  },
  {
   "cell_type": "code",
   "execution_count": 18,
   "metadata": {},
   "outputs": [],
   "source": [
    "folders.remove('final_mat_files')\n",
    "folders.remove('origin')"
   ]
  },
  {
   "cell_type": "code",
   "execution_count": 19,
   "metadata": {},
   "outputs": [],
   "source": [
    "folder_to_delete = []\n",
    "for folder in folders:\n",
    "    if int(folder[3:7]) > 2004:\n",
    "        folder_to_delete.append(folder)\n",
    "for folder in folder_to_delete:\n",
    "    folders.remove(folder)"
   ]
  },
  {
   "cell_type": "code",
   "execution_count": 20,
   "metadata": {},
   "outputs": [
    {
     "name": "stderr",
     "output_type": "stream",
     "text": [
      "100%|██████████| 15/15 [00:00<00:00, 1249.79it/s]\n",
      "100%|██████████| 51/51 [00:00<00:00, 1186.04it/s]\n",
      "100%|██████████| 169/169 [00:00<00:00, 1438.05it/s]\n",
      "100%|██████████| 389/389 [00:00<00:00, 1430.14it/s]\n",
      "100%|██████████| 443/443 [00:01<00:00, 339.11it/s] \n",
      "100%|██████████| 593/593 [00:04<00:00, 119.67it/s]\n",
      "100%|██████████| 970/970 [00:07<00:00, 130.90it/s]\n",
      "100%|██████████| 1430/1430 [00:09<00:00, 146.92it/s]\n",
      "100%|██████████| 1536/1536 [00:11<00:00, 135.18it/s]\n",
      "100%|██████████| 1733/1733 [00:11<00:00, 148.32it/s]\n",
      "100%|██████████| 2061/2061 [00:11<00:00, 179.58it/s]\n",
      "100%|██████████| 2241/2241 [00:11<00:00, 200.80it/s]\n",
      "100%|██████████| 2831/2831 [00:15<00:00, 177.15it/s]\n",
      "100%|██████████| 1815/1815 [00:11<00:00, 164.86it/s]\n",
      "100%|██████████| 3100/3100 [00:24<00:00, 129.03it/s]\n",
      "100%|██████████| 3291/3291 [00:19<00:00, 164.61it/s]\n",
      "100%|██████████| 3738/3738 [00:21<00:00, 175.77it/s]\n",
      "100%|██████████| 4173/4173 [00:23<00:00, 179.16it/s]\n",
      "100%|██████████| 4637/4637 [00:27<00:00, 168.99it/s]\n",
      "100%|██████████| 4760/4760 [00:29<00:00, 163.65it/s]\n",
      "100%|██████████| 4676/4676 [00:31<00:00, 148.01it/s]\n",
      "100%|██████████| 4639/4639 [00:30<00:00, 153.46it/s]\n",
      "100%|██████████| 4890/4890 [00:29<00:00, 165.86it/s]\n",
      "100%|██████████| 5009/5009 [00:29<00:00, 167.73it/s]\n",
      "100%|██████████| 5272/5272 [00:31<00:00, 167.41it/s]\n",
      "100%|██████████| 5550/5550 [00:32<00:00, 172.55it/s]\n",
      "100%|██████████| 6164/6164 [00:43<00:00, 141.75it/s]\n",
      "100%|██████████| 6712/6712 [01:32<00:00, 72.63it/s] \n",
      "100%|██████████| 7240/7240 [02:24<00:00, 50.12it/s] \n",
      "100%|██████████| 7141/7141 [02:18<00:00, 51.44it/s] \n",
      "100%|██████████| 7159/7159 [01:08<00:00, 104.91it/s]\n",
      "100%|██████████| 6786/6786 [01:13<00:00, 91.98it/s] \n",
      "100%|██████████| 7057/7057 [01:05<00:00, 107.23it/s]\n",
      "100%|██████████| 6991/6991 [01:05<00:00, 106.81it/s]\n",
      "100%|██████████| 7277/7277 [01:01<00:00, 117.60it/s]\n",
      "100%|██████████| 7302/7302 [01:00<00:00, 121.47it/s]\n",
      "100%|██████████| 7452/7452 [01:21<00:00, 91.61it/s] \n",
      "100%|██████████| 8098/8098 [01:11<00:00, 112.48it/s]\n",
      "100%|██████████| 8318/8318 [01:13<00:00, 113.44it/s]\n",
      "100%|██████████| 8339/8339 [01:15<00:00, 110.39it/s]\n",
      "100%|██████████| 8463/8463 [01:16<00:00, 111.01it/s]\n",
      "100%|██████████| 8628/8628 [01:18<00:00, 109.69it/s]\n",
      "100%|██████████| 8609/8609 [02:17<00:00, 62.52it/s] \n",
      "100%|██████████| 8756/8756 [02:03<00:00, 71.05it/s] \n",
      "100%|██████████| 8704/8704 [02:01<00:00, 71.54it/s] \n",
      "100%|██████████| 8781/8781 [04:39<00:00, 31.45it/s] \n"
     ]
    }
   ],
   "source": [
    "for folder in folders:\n",
    "    yy = int(folder[3:7])\n",
    "    if yy>2004:\n",
    "        continue\n",
    "    id_list = []\n",
    "    part_list = []\n",
    "    files = os.listdir(f'E:\\\\OneDrive\\\\TLEs\\\\{folder}')\n",
    "    for file in files:\n",
    "        part_list.append(file[-6:-4])\n",
    "        id_list.append(file[0:-12])\n",
    "    df = pd.DataFrame({'file':files,'id':id_list,'part':part_list})\n",
    "    id_dedup = df['id'].drop_duplicates()\n",
    "    for id in tqdm(id_dedup):\n",
    "        df_temp = df[df['id'] == id]\n",
    "        data_combine = []\n",
    "        for i,f in enumerate(df_temp['file']):\n",
    "            path = f'E:\\\\OneDrive\\\\TLEs\\\\{folder}\\\\{f}'\n",
    "            data_one_file = open(path).readlines()\n",
    "            data_combine = data_combine+data_one_file[1:]\n",
    "\n",
    "        if not os.path.exists(f'E:\\\\OneDrive\\\\TLEs\\\\new_{folder}'):\n",
    "            os.makedirs(f'E:\\\\OneDrive\\\\TLEs\\\\new_{folder}')\n",
    "        f2 = open(f'E:\\\\OneDrive\\\\TLEs\\\\new_{folder}\\\\{id}_{folder[3:7]}_P1.csv','w',newline='')\n",
    "        writer = csv.writer(f2)\n",
    "        header = ['time','inclination','eccentricity','AoP','mean_anomaly','mean_motion']\n",
    "        writer.writerow(header)\n",
    "        f2.writelines(data_combine)\n",
    "        f2.close()"
   ]
  }
 ],
 "metadata": {
  "kernelspec": {
   "display_name": "gnss_ir",
   "language": "python",
   "name": "python3"
  },
  "language_info": {
   "codemirror_mode": {
    "name": "ipython",
    "version": 3
   },
   "file_extension": ".py",
   "mimetype": "text/x-python",
   "name": "python",
   "nbconvert_exporter": "python",
   "pygments_lexer": "ipython3",
   "version": "3.9.12 (main, Apr  4 2022, 05:22:27) [MSC v.1916 64 bit (AMD64)]"
  },
  "orig_nbformat": 4,
  "vscode": {
   "interpreter": {
    "hash": "bef03f3b2611f05ae925db1195bade39f419d97b5bf9db298e90bacf7555e223"
   }
  }
 },
 "nbformat": 4,
 "nbformat_minor": 2
}
