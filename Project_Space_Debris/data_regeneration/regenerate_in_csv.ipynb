{
 "cells": [
  {
   "cell_type": "code",
   "execution_count": 4,
   "metadata": {},
   "outputs": [],
   "source": [
    "import csv\n",
    "import os\n",
    "from datetime import datetime \n",
    "from datetime import timedelta\n",
    "from tqdm import tqdm\n",
    "import pandas as pd\n"
   ]
  },
  {
   "cell_type": "markdown",
   "metadata": {},
   "source": [
    "I know the code in the block below looks super stupid, but there were different   \n",
    "mini problems in the different tle data so I have to do in this way to look after each file alone"
   ]
  },
  {
   "cell_type": "code",
   "execution_count": 2,
   "metadata": {},
   "outputs": [],
   "source": [
    "file_list = []\n",
    "file_list.append(\"F:\\\\TLE\\TLEs\\\\tle2004_1of8.txt\")\n",
    "file_list.append(\"F:\\\\TLE\\TLEs\\\\tle2004_2of8.txt\")\n",
    "file_list.append(\"F:\\\\TLE\\TLEs\\\\tle2004_3of8.txt\")\n",
    "file_list.append(\"F:\\\\TLE\\TLEs\\\\tle2004_4of8.txt\")\n",
    "file_list.append(\"F:\\\\TLE\\TLEs\\\\tle2004_5of8.txt\")\n",
    "file_list.append(\"F:\\\\TLE\\TLEs\\\\tle2004_6of8.txt\")\n",
    "file_list.append(\"F:\\\\TLE\\TLEs\\\\tle2004_7of8.txt\")\n",
    "file_list.append(\"F:\\\\TLE\\TLEs\\\\tle2004_8of8.txt\")\n",
    "file_list.append(\"F:\\\\TLE\\TLEs\\\\tle2005.txt\")\n",
    "file_list.append(\"F:\\\\TLE\\TLEs\\\\tle2006.txt\")\n",
    "file_list.append(\"F:\\\\TLE\\TLEs\\\\tle2007.txt\")\n",
    "file_list.append(\"F:\\\\TLE\\TLEs\\\\tle2008.txt\")\n",
    "file_list.append(\"F:\\\\TLE\\TLEs\\\\tle2009.txt\")\n",
    "file_list.append(\"F:\\\\TLE\\TLEs\\\\tle2010.txt\")\n",
    "file_list.append(\"F:\\\\TLE\\TLEs\\\\tle2011.txt\")\n",
    "file_list.append(\"F:\\\\TLE\\TLEs\\\\tle2012.txt\")\n",
    "file_list.append(\"F:\\\\TLE\\TLEs\\\\tle2013.txt\")\n",
    "file_list.append(\"F:\\\\TLE\\TLEs\\\\tle2014.txt\")\n",
    "file_list.append(\"F:\\\\TLE\\TLEs\\\\tle2015.txt\")\n",
    "file_list.append(\"F:\\\\TLE\\TLEs\\\\tle2016.txt\")\n",
    "file_list.append(\"F:\\\\TLE\\TLEs\\\\tle2017.txt\")\n",
    "file_list.append(\"F:\\\\TLE\\TLEs\\\\tle2018.txt\")\n",
    "file_list.append(\"F:\\\\TLE\\TLEs\\\\tle2019.txt\")\n",
    "file_list.append(\"F:\\\\TLE\\TLEs\\\\tle2020.txt\")\n",
    "file_list.append(\"F:\\\\TLE\\TLEs\\\\tle2021.txt\")\n",
    "file_list.append(\"F:\\\\TLE\\TLEs\\\\tle2022_sofar.txt\")\n",
    "\n",
    "folder_list=[]\n",
    "folder_list.append(\"F:\\\\TLE\\\\raw_process\\\\tle2004_1of8\")\n",
    "folder_list.append(\"F:\\\\TLE\\\\raw_process\\\\tle2004_2of8\")\n",
    "folder_list.append(\"F:\\\\TLE\\\\raw_process\\\\tle2004_3of8\")\n",
    "folder_list.append(\"F:\\\\TLE\\\\raw_process\\\\tle2004_4of8\")\n",
    "folder_list.append(\"F:\\\\TLE\\\\raw_process\\\\tle2004_5of8\")\n",
    "folder_list.append(\"F:\\\\TLE\\\\raw_process\\\\tle2004_6of8\")\n",
    "folder_list.append(\"F:\\\\TLE\\\\raw_process\\\\tle2004_7of8\")\n",
    "folder_list.append(\"F:\\\\TLE\\\\raw_process\\\\tle2004_8of8\")\n",
    "folder_list.append(\"F:\\\\TLE\\\\raw_process\\\\tle2005\")\n",
    "folder_list.append(\"F:\\\\TLE\\\\raw_process\\\\tle2006\")\n",
    "folder_list.append(\"F:\\\\TLE\\\\raw_process\\\\tle2007\")\n",
    "folder_list.append(\"F:\\\\TLE\\\\raw_process\\\\tle2008\")\n",
    "folder_list.append(\"F:\\\\TLE\\\\raw_process\\\\tle2009\")\n",
    "folder_list.append(\"F:\\\\TLE\\\\raw_process\\\\tle2010\")\n",
    "folder_list.append(\"F:\\\\TLE\\\\raw_process\\\\tle2011\")\n",
    "folder_list.append(\"F:\\\\TLE\\\\raw_process\\\\tle2012\")\n",
    "folder_list.append(\"F:\\\\TLE\\\\raw_process\\\\tle2013\")\n",
    "folder_list.append(\"F:\\\\TLE\\\\raw_process\\\\tle2014\")\n",
    "folder_list.append(\"F:\\\\TLE\\\\raw_process\\\\tle2015\")\n",
    "folder_list.append(\"F:\\\\TLE\\\\raw_process\\\\tle2016\")\n",
    "folder_list.append(\"F:\\\\TLE\\\\raw_process\\\\tle2017\")\n",
    "folder_list.append(\"F:\\\\TLE\\\\raw_process\\\\tle2018\")\n",
    "folder_list.append(\"F:\\\\TLE\\\\raw_process\\\\tle2019\")\n",
    "folder_list.append(\"F:\\\\TLE\\\\raw_process\\\\tle2020\")\n",
    "folder_list.append(\"F:\\\\TLE\\\\raw_process\\\\tle2021\")\n",
    "folder_list.append(\"F:\\\\TLE\\\\raw_process\\\\tle2022_sofar\")\n",
    "\n",
    "year_list = [2004,2004,2004,2004,2004,2004,2004,2004,2005,2006,2007,2008,2009,2010,2011,2012,2013,2014,2015,2016,2017,2018,2019,2020,2021,2022]\n",
    "part_list = [1,2,3,4,5,6,7,8,1,1,1,1,1,1,1,1,1,1,1,1,1,1,1,1,1,1]"
   ]
  },
  {
   "cell_type": "code",
   "execution_count": 3,
   "metadata": {},
   "outputs": [
    {
     "data": {
      "text/plain": [
       "'for item in folder_list:\\n    os.mkdir(item)'"
      ]
     },
     "execution_count": 3,
     "metadata": {},
     "output_type": "execute_result"
    }
   ],
   "source": [
    "for item in folder_list:\n",
    "    os.mkdir(item)"
   ]
  },
  {
   "cell_type": "markdown",
   "metadata": {},
   "source": [
    "and then, split the big file into many small files organized in satellite index and year\n",
    "\n",
    "time(in unixtime), inclination, eccetricity, AoP, mean_anomaly and mean_motion are extracted\n",
    "\n",
    "If you want to try this in your own devices(which is totally not suggested), just change the folder and file paths above and make sure you have enough spaces left"
   ]
  },
  {
   "cell_type": "code",
   "execution_count": 4,
   "metadata": {},
   "outputs": [
    {
     "name": "stderr",
     "output_type": "stream",
     "text": [
      "100%|██████████| 10093/10093 [00:13<00:00, 741.05it/s] \n"
     ]
    }
   ],
   "source": [
    "for i,file in enumerate(file_list):\n",
    "    dict_tle = {}\n",
    "    year_index = year_list[i]\n",
    "    part_index = part_list[i]\n",
    "\n",
    "    with open(file, encoding = 'utf-8') as f1:\n",
    "        line = f1.readline()\n",
    "        count = 1\n",
    "        while line:\n",
    "            sate_id = line[2:7]\n",
    "            if sate_id == 89490:\n",
    "                print(line)\n",
    "            if not (sate_id in dict_tle):\n",
    "                dict_tle[sate_id] = {}\n",
    "                dict_tle[sate_id]['timestamp']=[]\n",
    "                dict_tle[sate_id]['inclination'] = []\n",
    "                dict_tle[sate_id]['eccentricity'] = []\n",
    "                dict_tle[sate_id]['AoP'] = []\n",
    "                dict_tle[sate_id]['mean_anomaly'] = []\n",
    "                dict_tle[sate_id]['mean_motion'] = []\n",
    "            year = int(line[18:20])\n",
    "            time_rest = line[20:32]\n",
    "            timestamp = datetime(year=year+2000,month=1,day=1)+timedelta(days=float(time_rest))\n",
    "            dict_tle[sate_id]['timestamp'].append(timestamp.timestamp())\n",
    "            \n",
    "            line = f1.readline()\n",
    "            count+=1\n",
    "            while line=='\\\\\\n':\n",
    "                count+=1\n",
    "                line = f1.readline()\n",
    "\n",
    "            dict_tle[sate_id]['inclination'].append(float(line[8:16]))\n",
    "            dict_tle[sate_id]['eccentricity'].append(float('0.'+line[26:33]))\n",
    "            if line[34:42] == '172.14pp':\n",
    "                dict_tle[sate_id]['AoP'].append(172.14)\n",
    "            else:\n",
    "                dict_tle[sate_id]['AoP'].append(float(line[34:42]))\n",
    "            dict_tle[sate_id]['mean_anomaly'].append(float(line[43:51]))\n",
    "            dict_tle[sate_id]['mean_motion'].append(float(line[52:63]))\n",
    "            line = f1.readline()\n",
    "            count+=1\n",
    "            while line=='\\\\\\n':\n",
    "                count+=1\n",
    "                line = f1.readline()\n",
    "            \n",
    "    f1.close()\n",
    "\n",
    "    for item in tqdm(dict_tle):\n",
    "        tle_data = dict_tle[item]\n",
    "        f2 = open(f'{folder_list[i]}\\\\{int(item)}_{year_index}_P{part_index}.csv','w',newline='')\n",
    "        writer = csv.writer(f2)\n",
    "        header = ['time','inclination','eccentricity','AoP','mean_anomaly','mean_motion']\n",
    "        writer.writerow(header)\n",
    "        for j,item in enumerate(tle_data['timestamp']):\n",
    "            row = [item,tle_data['inclination'][j],tle_data['eccentricity'][j],tle_data['AoP'][j],tle_data['mean_anomaly'][j],tle_data['mean_motion'][j]]\n",
    "            writer.writerow(row)\n",
    "        f2.close()"
   ]
  },
  {
   "cell_type": "code",
   "execution_count": 1,
   "metadata": {},
   "outputs": [],
   "source": [
    "folder_list = []\n",
    "filelist = os.listdir('F:\\\\TLE\\\\raw_process')\n",
    "for item in filelist:\n",
    "    folder_list.append('F:\\\\TLE\\\\raw_process\\\\'+item)"
   ]
  },
  {
   "cell_type": "code",
   "execution_count": 6,
   "metadata": {},
   "outputs": [
    {
     "name": "stderr",
     "output_type": "stream",
     "text": [
      "100%|██████████| 9073/9073 [05:02<00:00, 30.03it/s]\n",
      "100%|██████████| 8895/8895 [06:37<00:00, 22.37it/s] \n",
      "100%|██████████| 8784/8784 [05:59<00:00, 24.42it/s] \n",
      "100%|██████████| 8569/8569 [02:56<00:00, 48.48it/s] \n",
      "100%|██████████| 8536/8536 [03:05<00:00, 46.02it/s]\n",
      "100%|██████████| 18645/18645 [12:42<00:00, 24.46it/s] \n",
      "100%|██████████| 15288/15288 [31:00<00:00,  8.22it/s] \n",
      "100%|██████████| 8632/8632 [03:24<00:00, 42.20it/s]\n",
      "100%|██████████| 15945/15945 [23:16<00:00, 11.42it/s] \n",
      "100%|██████████| 9522/9522 [06:44<00:00, 23.54it/s] \n",
      "100%|██████████| 11852/11852 [08:54<00:00, 22.18it/s] \n",
      "100%|██████████| 12820/12820 [09:26<00:00, 22.63it/s]\n",
      "100%|██████████| 14576/14576 [11:44<00:00, 20.68it/s]\n",
      "100%|██████████| 15317/15317 [10:23<00:00, 24.56it/s] \n",
      "100%|██████████| 15650/15650 [10:27<00:00, 24.95it/s] \n",
      "100%|██████████| 15957/15957 [10:09<00:00, 26.19it/s] \n",
      "100%|██████████| 15889/15889 [07:31<00:00, 35.18it/s] \n",
      "100%|██████████| 16735/16735 [07:59<00:00, 34.89it/s] \n",
      "100%|██████████| 16944/16944 [08:53<00:00, 31.79it/s] \n",
      "100%|██████████| 16906/16906 [10:47<00:00, 26.12it/s]\n",
      "100%|██████████| 17495/17495 [11:52<00:00, 24.56it/s]\n",
      "100%|██████████| 18911/18911 [13:03<00:00, 24.13it/s] \n",
      "100%|██████████| 20191/20191 [13:29<00:00, 24.94it/s]\n",
      "100%|██████████| 22223/22223 [15:49<00:00, 23.41it/s] \n",
      "100%|██████████| 24729/24729 [21:53<00:00, 18.83it/s] \n",
      "100%|██████████| 26936/26936 [22:43<00:00, 19.75it/s] \n"
     ]
    }
   ],
   "source": [
    "for folder in folder_list:\n",
    "    files = os.listdir(folder)\n",
    "    for item in tqdm(files):\n",
    "        if item.endswith('.csv'):\n",
    "            path = f'{folder}\\\\{item}'\n",
    "            name = item[0:-12]\n",
    "            part = item[-6:-4]\n",
    "            df_temp = pd.read_csv(path,index_col=0)\n",
    "\n",
    "            df_temp.insert(1,'year',0)\n",
    "            for time in df_temp.index:\n",
    "                y = datetime.fromtimestamp(time).year\n",
    "                df_temp['year'].at[time] = y\n",
    "\n",
    "            year_list = df_temp['year'].drop_duplicates()\n",
    "\n",
    "            for y in year_list:\n",
    "                df_year = df_temp[df_temp['year'] == y]\n",
    "                df_year = df_year.drop(columns=['year'])\n",
    "                if y>2004:\n",
    "                    part = y-2030\n",
    "                if y>2022:\n",
    "                    y=y-100\n",
    "                if not os.path.exists(f'F:\\\\TLE\\\\split\\\\tle{y}'):\n",
    "                    os.makedirs(f'F:\\\\TLE\\split\\\\tle{y}')\n",
    "                storage_path = f'F:\\\\TLE\\split\\\\tle{y}\\\\{name}_{y}_{part}.csv'\n",
    "                df_year.to_csv(storage_path)\n",
    "\n",
    "        "
   ]
  },
  {
   "cell_type": "code",
   "execution_count": 8,
   "metadata": {},
   "outputs": [
    {
     "name": "stderr",
     "output_type": "stream",
     "text": [
      "100%|██████████| 15/15 [00:00<00:00, 67.45it/s]\n",
      "100%|██████████| 51/51 [00:00<00:00, 57.45it/s]\n",
      "100%|██████████| 169/169 [00:01<00:00, 89.00it/s] \n",
      "100%|██████████| 390/390 [00:03<00:00, 103.08it/s]\n",
      " 51%|█████▏    | 228/443 [00:02<00:01, 107.87it/s]\n"
     ]
    },
    {
     "ename": "KeyboardInterrupt",
     "evalue": "",
     "output_type": "error",
     "traceback": [
      "\u001b[1;31m---------------------------------------------------------------------------\u001b[0m",
      "\u001b[1;31mKeyboardInterrupt\u001b[0m                         Traceback (most recent call last)",
      "\u001b[1;32me:\\OneDrive\\Studium\\M5-AktuelleGeodaetischeSatellitenmissionen\\Seminar-Aktuelle-Geodaetische-Satelliten-missionen\\Project_Space_Debris\\data_regeneration\\1_split_and_reorganize_tle.ipynb Cell 10\u001b[0m in \u001b[0;36m<cell line: 3>\u001b[1;34m()\u001b[0m\n\u001b[0;32m     <a href='vscode-notebook-cell:/e%3A/OneDrive/Studium/M5-AktuelleGeodaetischeSatellitenmissionen/Seminar-Aktuelle-Geodaetische-Satelliten-missionen/Project_Space_Debris/data_regeneration/1_split_and_reorganize_tle.ipynb#X11sZmlsZQ%3D%3D?line=15'>16</a>\u001b[0m \u001b[39mfor\u001b[39;00m i,f \u001b[39min\u001b[39;00m \u001b[39menumerate\u001b[39m(df_temp[\u001b[39m'\u001b[39m\u001b[39mfile\u001b[39m\u001b[39m'\u001b[39m]):\n\u001b[0;32m     <a href='vscode-notebook-cell:/e%3A/OneDrive/Studium/M5-AktuelleGeodaetischeSatellitenmissionen/Seminar-Aktuelle-Geodaetische-Satelliten-missionen/Project_Space_Debris/data_regeneration/1_split_and_reorganize_tle.ipynb#X11sZmlsZQ%3D%3D?line=16'>17</a>\u001b[0m     path \u001b[39m=\u001b[39m \u001b[39mf\u001b[39m\u001b[39m'\u001b[39m\u001b[39mF:\u001b[39m\u001b[39m\\\\\u001b[39;00m\u001b[39mTLE\u001b[39m\u001b[39m\\\\\u001b[39;00m\u001b[39msplit\u001b[39m\u001b[39m\\\\\u001b[39;00m\u001b[39m{\u001b[39;00mfolder\u001b[39m}\u001b[39;00m\u001b[39m\\\\\u001b[39;00m\u001b[39m{\u001b[39;00mf\u001b[39m}\u001b[39;00m\u001b[39m'\u001b[39m\n\u001b[1;32m---> <a href='vscode-notebook-cell:/e%3A/OneDrive/Studium/M5-AktuelleGeodaetischeSatellitenmissionen/Seminar-Aktuelle-Geodaetische-Satelliten-missionen/Project_Space_Debris/data_regeneration/1_split_and_reorganize_tle.ipynb#X11sZmlsZQ%3D%3D?line=17'>18</a>\u001b[0m     data_one_file \u001b[39m=\u001b[39m \u001b[39mopen\u001b[39;49m(path)\u001b[39m.\u001b[39mreadlines()\n\u001b[0;32m     <a href='vscode-notebook-cell:/e%3A/OneDrive/Studium/M5-AktuelleGeodaetischeSatellitenmissionen/Seminar-Aktuelle-Geodaetische-Satelliten-missionen/Project_Space_Debris/data_regeneration/1_split_and_reorganize_tle.ipynb#X11sZmlsZQ%3D%3D?line=18'>19</a>\u001b[0m     data_combine \u001b[39m=\u001b[39m data_combine\u001b[39m+\u001b[39mdata_one_file[\u001b[39m1\u001b[39m:]\n\u001b[0;32m     <a href='vscode-notebook-cell:/e%3A/OneDrive/Studium/M5-AktuelleGeodaetischeSatellitenmissionen/Seminar-Aktuelle-Geodaetische-Satelliten-missionen/Project_Space_Debris/data_regeneration/1_split_and_reorganize_tle.ipynb#X11sZmlsZQ%3D%3D?line=20'>21</a>\u001b[0m \u001b[39mif\u001b[39;00m \u001b[39mnot\u001b[39;00m os\u001b[39m.\u001b[39mpath\u001b[39m.\u001b[39mexists(\u001b[39mf\u001b[39m\u001b[39m'\u001b[39m\u001b[39mF:\u001b[39m\u001b[39m\\\\\u001b[39;00m\u001b[39mTLE\u001b[39m\u001b[39m\\\u001b[39m\u001b[39mRESULT\u001b[39m\u001b[39m\\\\\u001b[39;00m\u001b[39m{\u001b[39;00mfolder\u001b[39m}\u001b[39;00m\u001b[39m'\u001b[39m):\n",
      "File \u001b[1;32mf:\\Anaconda\\envs\\gnss_ir\\lib\\_bootlocale.py:11\u001b[0m, in \u001b[0;36mgetpreferredencoding\u001b[1;34m(do_setlocale)\u001b[0m\n\u001b[0;32m      8\u001b[0m \u001b[39mimport\u001b[39;00m \u001b[39m_locale\u001b[39;00m\n\u001b[0;32m     10\u001b[0m \u001b[39mif\u001b[39;00m sys\u001b[39m.\u001b[39mplatform\u001b[39m.\u001b[39mstartswith(\u001b[39m\"\u001b[39m\u001b[39mwin\u001b[39m\u001b[39m\"\u001b[39m):\n\u001b[1;32m---> 11\u001b[0m     \u001b[39mdef\u001b[39;00m \u001b[39mgetpreferredencoding\u001b[39m(do_setlocale\u001b[39m=\u001b[39m\u001b[39mTrue\u001b[39;00m):\n\u001b[0;32m     12\u001b[0m         \u001b[39mif\u001b[39;00m sys\u001b[39m.\u001b[39mflags\u001b[39m.\u001b[39mutf8_mode:\n\u001b[0;32m     13\u001b[0m             \u001b[39mreturn\u001b[39;00m \u001b[39m'\u001b[39m\u001b[39mUTF-8\u001b[39m\u001b[39m'\u001b[39m\n",
      "\u001b[1;31mKeyboardInterrupt\u001b[0m: "
     ]
    }
   ],
   "source": [
    "folders = os.listdir('F:\\\\TLE\\\\split')\n",
    "\n",
    "for folder in folders:\n",
    "    yy = int(folder[3:7])\n",
    "    id_list = []\n",
    "    part_list = []\n",
    "    files = os.listdir(f'F:\\\\TLE\\\\split\\\\{folder}')\n",
    "    for file in files:\n",
    "        part_list.append(file[-6:-4])\n",
    "        id_list.append(file[0:-12])\n",
    "    df = pd.DataFrame({'file':files,'id':id_list,'part':part_list})\n",
    "    id_dedup = df['id'].drop_duplicates()\n",
    "    for id in tqdm(id_dedup):\n",
    "        df_temp = df[df['id'] == id]\n",
    "        data_combine = []\n",
    "        for i,f in enumerate(df_temp['file']):\n",
    "            path = f'F:\\\\TLE\\\\split\\\\{folder}\\\\{f}'\n",
    "            data_one_file = open(path).readlines()\n",
    "            data_combine = data_combine+data_one_file[1:]\n",
    "\n",
    "        if not os.path.exists(f'F:\\\\TLE\\RESULT\\\\{folder}'):\n",
    "            os.makedirs(f'F:\\\\TLE\\\\RESULT\\\\{folder}')\n",
    "        f2 = open(f'F:\\\\TLE\\\\RESULT\\\\{folder}\\\\{id}_{folder[3:7]}.csv','w',newline='')\n",
    "        writer = csv.writer(f2)\n",
    "        header = ['time','inclination','eccentricity','AoP','mean_anomaly','mean_motion']\n",
    "        writer.writerow(header)\n",
    "        f2.writelines(data_combine)\n",
    "        f2.close()"
   ]
  },
  {
   "cell_type": "code",
   "execution_count": null,
   "metadata": {},
   "outputs": [],
   "source": []
  }
 ],
 "metadata": {
  "kernelspec": {
   "display_name": "Python 3.9.12 ('gnss_ir')",
   "language": "python",
   "name": "python3"
  },
  "language_info": {
   "codemirror_mode": {
    "name": "ipython",
    "version": 3
   },
   "file_extension": ".py",
   "mimetype": "text/x-python",
   "name": "python",
   "nbconvert_exporter": "python",
   "pygments_lexer": "ipython3",
   "version": "3.9.12"
  },
  "orig_nbformat": 4,
  "vscode": {
   "interpreter": {
    "hash": "bef03f3b2611f05ae925db1195bade39f419d97b5bf9db298e90bacf7555e223"
   }
  }
 },
 "nbformat": 4,
 "nbformat_minor": 2
}
