{
 "cells": [
  {
   "cell_type": "code",
   "execution_count": 3,
   "metadata": {},
   "outputs": [],
   "source": [
    "import os\n",
    "\n",
    "import pandas as pd"
   ]
  },
  {
   "cell_type": "code",
   "execution_count": 4,
   "metadata": {},
   "outputs": [],
   "source": [
    "path = 'E:\\\\OneDrive\\\\TLEs'\n",
    "folders = os.listdir(path)"
   ]
  },
  {
   "cell_type": "code",
   "execution_count": 5,
   "metadata": {},
   "outputs": [
    {
     "data": {
      "text/plain": [
       "['final_mat_files',\n",
       " 'new_tle1959.txt',\n",
       " 'new_tle1960.txt',\n",
       " 'new_tle1961.txt',\n",
       " 'new_tle1962.txt',\n",
       " 'new_tle1963.txt',\n",
       " 'new_tle1964.txt',\n",
       " 'new_tle1965.txt',\n",
       " 'new_tle1966.txt',\n",
       " 'new_tle1967.txt',\n",
       " 'new_tle1968.txt',\n",
       " 'new_tle1969.txt',\n",
       " 'new_tle1970.txt',\n",
       " 'new_tle1971.txt',\n",
       " 'new_tle1972.txt',\n",
       " 'new_tle1973.txt',\n",
       " 'new_tle1974.txt',\n",
       " 'new_tle1975.txt',\n",
       " 'new_tle1976.txt',\n",
       " 'new_tle1977.txt',\n",
       " 'new_tle1978.txt',\n",
       " 'new_tle1979.txt',\n",
       " 'new_tle1980.txt',\n",
       " 'new_tle1981.txt',\n",
       " 'new_tle1982.txt',\n",
       " 'new_tle1983.txt',\n",
       " 'new_tle1984.txt',\n",
       " 'new_tle1985.txt',\n",
       " 'new_tle1986.txt',\n",
       " 'new_tle1987.txt',\n",
       " 'new_tle1988.txt',\n",
       " 'new_tle1989.txt',\n",
       " 'new_tle1990.txt',\n",
       " 'new_tle1991.txt',\n",
       " 'new_tle1992.txt',\n",
       " 'new_tle1993.txt',\n",
       " 'new_tle1994.txt',\n",
       " 'new_tle1995.txt',\n",
       " 'new_tle1996.txt',\n",
       " 'new_tle1997.txt',\n",
       " 'new_tle1998.txt',\n",
       " 'new_tle1999.txt',\n",
       " 'new_tle2000.txt',\n",
       " 'new_tle2001.txt',\n",
       " 'new_tle2002.txt',\n",
       " 'new_tle2003.txt',\n",
       " 'new_tle2004.txt',\n",
       " 'origin',\n",
       " 'tle2005.txt',\n",
       " 'tle2006.txt',\n",
       " 'tle2007.txt',\n",
       " 'tle2008.txt',\n",
       " 'tle2009.txt',\n",
       " 'tle2010.txt',\n",
       " 'tle2011.txt',\n",
       " 'tle2012.txt',\n",
       " 'tle2013.txt',\n",
       " 'tle2014.txt',\n",
       " 'tle2015.txt',\n",
       " 'tle2016.txt',\n",
       " 'tle2017.txt',\n",
       " 'tle2018.txt',\n",
       " 'tle2019.txt',\n",
       " 'tle2020.txt',\n",
       " 'tle2021.txt',\n",
       " 'tle2022_sofar.txt']"
      ]
     },
     "execution_count": 5,
     "metadata": {},
     "output_type": "execute_result"
    }
   ],
   "source": [
    "folders"
   ]
  },
  {
   "cell_type": "code",
   "execution_count": 12,
   "metadata": {},
   "outputs": [],
   "source": [
    "df_dict = {}\n",
    "for folder in folders:\n",
    "    if (folder == 'final_mat_files') or (folder == 'origin'):\n",
    "        continue\n",
    "    if folder == 'tle2022_sofar.txt':\n",
    "        year = '2022'\n",
    "    else:\n",
    "        year = folder[-8:-4]\n",
    "    files = os.listdir(f'E:\\\\OneDrive\\\\TLEs\\\\{folder}')\n",
    "    name_list = []\n",
    "    for file in files:\n",
    "        name = file[0:-12]\n",
    "        name_list.append(name)\n",
    "    df_dict[year] = pd.DataFrame({'id':name_list})\n",
    "    \n"
   ]
  },
  {
   "cell_type": "code",
   "execution_count": 20,
   "metadata": {},
   "outputs": [],
   "source": [
    "length_dict = {}\n",
    "add_dict = {}\n",
    "remove_dict = {}\n",
    "year_dict = []\n",
    "for i,item in enumerate(df_dict):\n",
    "    year_dict.append(item)\n",
    "    length_dict[item] = df_dict[item].shape[0]\n",
    "    if i == 0:\n",
    "        add_dict[item]=0\n",
    "        remove_dict[item]=0\n",
    "        df1 = df_dict[item]\n",
    "    else:\n",
    "        df2 = df_dict[item]\n",
    "        df_merge = pd.merge(df1,df2,how='inner')\n",
    "        add_dict[item] = df2.shape[0]-df_merge.shape[0]\n",
    "        remove_dict[item] = df1.shape[0]-df_merge.shape[0]\n",
    "        df1 = df2\n",
    "\n",
    "\n"
   ]
  },
  {
   "cell_type": "code",
   "execution_count": null,
   "metadata": {},
   "outputs": [],
   "source": []
  },
  {
   "cell_type": "code",
   "execution_count": 22,
   "metadata": {},
   "outputs": [],
   "source": [
    "df_info = pd.DataFrame({'year':year_dict,'number':list(length_dict.values()),'add_number':list(add_dict.values()),'remove_number':list(remove_dict.values())})"
   ]
  },
  {
   "cell_type": "code",
   "execution_count": 25,
   "metadata": {},
   "outputs": [
    {
     "data": {
      "text/html": [
       "<div>\n",
       "<style scoped>\n",
       "    .dataframe tbody tr th:only-of-type {\n",
       "        vertical-align: middle;\n",
       "    }\n",
       "\n",
       "    .dataframe tbody tr th {\n",
       "        vertical-align: top;\n",
       "    }\n",
       "\n",
       "    .dataframe thead th {\n",
       "        text-align: right;\n",
       "    }\n",
       "</style>\n",
       "<table border=\"1\" class=\"dataframe\">\n",
       "  <thead>\n",
       "    <tr style=\"text-align: right;\">\n",
       "      <th></th>\n",
       "      <th>year</th>\n",
       "      <th>number</th>\n",
       "      <th>add_number</th>\n",
       "      <th>remove_number</th>\n",
       "    </tr>\n",
       "  </thead>\n",
       "  <tbody>\n",
       "    <tr>\n",
       "      <th>46</th>\n",
       "      <td>2005</td>\n",
       "      <td>16714</td>\n",
       "      <td>8085</td>\n",
       "      <td>152</td>\n",
       "    </tr>\n",
       "  </tbody>\n",
       "</table>\n",
       "</div>"
      ],
      "text/plain": [
       "    year  number  add_number  remove_number\n",
       "46  2005   16714        8085            152"
      ]
     },
     "execution_count": 25,
     "metadata": {},
     "output_type": "execute_result"
    }
   ],
   "source": [
    "df_info[df_info['year'] =='2005']"
   ]
  },
  {
   "cell_type": "code",
   "execution_count": 28,
   "metadata": {},
   "outputs": [
    {
     "data": {
      "text/html": [
       "<div>\n",
       "<style scoped>\n",
       "    .dataframe tbody tr th:only-of-type {\n",
       "        vertical-align: middle;\n",
       "    }\n",
       "\n",
       "    .dataframe tbody tr th {\n",
       "        vertical-align: top;\n",
       "    }\n",
       "\n",
       "    .dataframe thead th {\n",
       "        text-align: right;\n",
       "    }\n",
       "</style>\n",
       "<table border=\"1\" class=\"dataframe\">\n",
       "  <thead>\n",
       "    <tr style=\"text-align: right;\">\n",
       "      <th></th>\n",
       "      <th>year</th>\n",
       "      <th>number</th>\n",
       "      <th>add_number</th>\n",
       "      <th>remove_number</th>\n",
       "    </tr>\n",
       "  </thead>\n",
       "  <tbody>\n",
       "    <tr>\n",
       "      <th>47</th>\n",
       "      <td>2006</td>\n",
       "      <td>12290</td>\n",
       "      <td>2667</td>\n",
       "      <td>7091</td>\n",
       "    </tr>\n",
       "  </tbody>\n",
       "</table>\n",
       "</div>"
      ],
      "text/plain": [
       "    year  number  add_number  remove_number\n",
       "47  2006   12290        2667           7091"
      ]
     },
     "execution_count": 28,
     "metadata": {},
     "output_type": "execute_result"
    }
   ],
   "source": [
    "df_info[df_info['year'] =='2006']"
   ]
  },
  {
   "cell_type": "code",
   "execution_count": 29,
   "metadata": {},
   "outputs": [],
   "source": [
    "df_info.to_csv('satellite_statistic.csv')"
   ]
  }
 ],
 "metadata": {
  "kernelspec": {
   "display_name": "satellitemission",
   "language": "python",
   "name": "python3"
  },
  "language_info": {
   "codemirror_mode": {
    "name": "ipython",
    "version": 3
   },
   "file_extension": ".py",
   "mimetype": "text/x-python",
   "name": "python",
   "nbconvert_exporter": "python",
   "pygments_lexer": "ipython3",
   "version": "3.9.15"
  },
  "orig_nbformat": 4,
  "vscode": {
   "interpreter": {
    "hash": "53d897ac693cf38e2dc6ab6202f29fd5ceb4e96af7eda96ebc71839061fed696"
   }
  }
 },
 "nbformat": 4,
 "nbformat_minor": 2
}
